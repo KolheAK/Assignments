{
  "nbformat": 4,
  "nbformat_minor": 0,
  "metadata": {
    "colab": {
      "provenance": []
    },
    "kernelspec": {
      "name": "python3",
      "display_name": "Python 3"
    },
    "language_info": {
      "name": "python"
    }
  },
  "cells": [
    {
      "cell_type": "markdown",
      "source": [
        "Q.1.\tCreate two int type variables, apply addition, subtraction, division and multiplications and store the results in variables. Then print the data in the following format by calling the variables:\n",
        "\n",
        "First variable is\t\t& second variable is     .\n",
        "\n",
        "Addition:\t+\t=\n",
        "\n",
        "Subtraction:\t\t-\t\t\t=\n",
        "\n",
        "Multiplication:\t\t\t*\t\t\t=\n",
        "\n",
        "Division:\t/\t\t=\n"
      ],
      "metadata": {
        "id": "6GhFniYjOHAE"
      }
    },
    {
      "cell_type": "code",
      "source": [
        "num1 = int(input('Enter a number'))\n",
        "num2 = int(input('Enter a number'))\n",
        "addition = num1 + num2\n",
        "subtraction = num1 - num2\n",
        "multiplication = num1 * num2\n",
        "division = num1 / num2\n",
        "print('First variable is ', num1,  '& second variable is ', num2,'.')\n",
        "print('Addition: ', num1, '+', num2, '=', addition)\n",
        "print('Subtraction: ', num1, '-', num2, '=', subtraction)\n",
        "print('Multiplication: ', num1, '*', num2, '=', multiplication)\n",
        "print('Division: ', num1, '/', num2, '=', division)"
      ],
      "metadata": {
        "colab": {
          "base_uri": "https://localhost:8080/"
        },
        "id": "iZdcAjYaOIoc",
        "outputId": "ef5fe68d-828a-4fa6-dcf1-aef37b2c62ec"
      },
      "execution_count": 10,
      "outputs": [
        {
          "output_type": "stream",
          "name": "stdout",
          "text": [
            "Enter a number10\n",
            "Enter a number20\n",
            "First variable is  10 & second variable is  20 .\n",
            "Addition:  10 + 20 = 30\n",
            "Subtraction:  10 - 20 = -10\n",
            "Multiplication:  10 * 20 = 200\n",
            "Division:  10 / 20 = 0.5\n"
          ]
        }
      ]
    },
    {
      "cell_type": "markdown",
      "source": [
        "Q.2.\tWhat is the difference between the following operators:\n",
        "\n",
        "\n",
        "(i)\t‘/’ & ‘//’\n",
        "\n",
        "(ii)\t‘**’ & ‘^’\n",
        "\n",
        "\n",
        "\n",
        "**Answer:**\n",
        "\n",
        "(i)\tIn python, the ‘/’ (single slash) operator carries out the float division. The output of this operator is always a quotient with a float datatype.\n",
        "The ‘//’ (double slash) operator carries out integer division which is also known as floor division.\n",
        "\n",
        "(ii)\tIn python, ** is the exponentiation operator, and ^ is the XOR operator. XOR is the bitwise XOR of the two numbers.\n",
        "\n",
        "\n"
      ],
      "metadata": {
        "id": "vUIVN7DcRZQL"
      }
    },
    {
      "cell_type": "code",
      "source": [
        "n1 = 2\n",
        "n2 = 3\n",
        "n3 = n1**n2\n",
        "n4 = n1 ^ n2\n",
        "print(n3)\n",
        "print(n4)"
      ],
      "metadata": {
        "colab": {
          "base_uri": "https://localhost:8080/"
        },
        "id": "jhZEhJ3HVeg3",
        "outputId": "b6619ab0-f4dc-44c6-b576-707dd254417a"
      },
      "execution_count": 14,
      "outputs": [
        {
          "output_type": "stream",
          "name": "stdout",
          "text": [
            "8\n",
            "1\n"
          ]
        }
      ]
    },
    {
      "cell_type": "markdown",
      "source": [
        "Q.3.\tList the logical operators.\n",
        "\n",
        "**Answer:**\n",
        "\n",
        "Python has mainly three logical operators: and , or , and not .\n"
      ],
      "metadata": {
        "id": "oXEV7l--WjD2"
      }
    },
    {
      "cell_type": "markdown",
      "source": [
        "Q.4.\tExplain right shift operator and left shift operator with examples.\n",
        "\n",
        "**Answer:**\n",
        "\n",
        "Bitwise right shift operator is denoted by ‘ >>’. The left operand’s value is moved toward right by the number of bits specified by the right operand.\n",
        "\n",
        "e.g. if we write 10 >> 3 the output will be 1. The decimal number 10 is converted to binary as 1010 and the bits will be shifter right by 3 positions and hence the output will be 1. 10 >> 3  -> 1010 -> 1 (in binary) -> 1 (in decimal – Final Output).\n"
      ],
      "metadata": {
        "id": "_csh9Vauj5Z4"
      }
    },
    {
      "cell_type": "code",
      "source": [
        "x = 10 >> 3 #1010\n",
        "print(x)\n"
      ],
      "metadata": {
        "colab": {
          "base_uri": "https://localhost:8080/"
        },
        "id": "iIpW3qsTZ5B9",
        "outputId": "fdae703c-2d03-4547-b70b-b7d40d953e36"
      },
      "execution_count": 30,
      "outputs": [
        {
          "output_type": "stream",
          "name": "stdout",
          "text": [
            "1\n"
          ]
        }
      ]
    },
    {
      "cell_type": "markdown",
      "source": [
        "Bitwise left shift operator is denoted by ‘ <<’. The left operand’s value is moved toward left by the number of bits specified by the right operand and the empty bits on right hand side are filled with 0’s.\n",
        "\n",
        "e.g. if we write 8 << 2 the output will 32. The decimal number 8 is converted to binary as 1000 and the bits will be shifted left by 2 positions resulting in to two blank positions on the right side. These blank positions are filled with 0’s and the result will be 100000. The underlined bits are additional bits. The decimal equivalent of 100000 is 32.\n",
        "8  << 2  -> 1000  <<  2 -> 1000bb (b is blank position) -> 100000 (in binary) > 32 (in decimal - Final output)\n"
      ],
      "metadata": {
        "id": "s7lCVjpFkkzy"
      }
    },
    {
      "cell_type": "code",
      "source": [
        "x = 8 << 2 #1000\n",
        "print(x)"
      ],
      "metadata": {
        "colab": {
          "base_uri": "https://localhost:8080/"
        },
        "id": "cooh6xWMk0cd",
        "outputId": "fe23c940-411e-4584-bc56-28a3dd71f56d"
      },
      "execution_count": 31,
      "outputs": [
        {
          "output_type": "stream",
          "name": "stdout",
          "text": [
            "32\n"
          ]
        }
      ]
    },
    {
      "cell_type": "markdown",
      "source": [
        "Q.5.\tCreate a list containing int type data of length 15. Then write a code to check if 10 is present in the list or not.\n",
        "\n",
        "**Answer:**\n"
      ],
      "metadata": {
        "id": "zXeppg8HlEtS"
      }
    },
    {
      "cell_type": "code",
      "source": [
        "lst1 = [1,2,3,4,5,6,7,8,9,10,11,12,13,14,15]\n",
        "#lst1 = [*range(0,31,2)]\n",
        "#print(lst1)\n",
        "flag = 0\n",
        "for x in lst1:\n",
        "  if x == 10:\n",
        "    flag = 1\n",
        "    break\n",
        "  else:\n",
        "      flag = 0\n",
        "if flag == 1:\n",
        "  print(\"10 is present in the list\")\n",
        "else:\n",
        "  print(\"10 is not present in the list\")"
      ],
      "metadata": {
        "colab": {
          "base_uri": "https://localhost:8080/"
        },
        "id": "T0o5nmRDlIVr",
        "outputId": "90c5ddb0-50a2-4238-c21c-6d2bb1c71c96"
      },
      "execution_count": 48,
      "outputs": [
        {
          "output_type": "stream",
          "name": "stdout",
          "text": [
            "10 is present in the list\n"
          ]
        }
      ]
    }
  ]
}