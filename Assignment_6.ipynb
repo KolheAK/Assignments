{
  "nbformat": 4,
  "nbformat_minor": 0,
  "metadata": {
    "colab": {
      "provenance": []
    },
    "kernelspec": {
      "name": "python3",
      "display_name": "Python 3"
    },
    "language_info": {
      "name": "python"
    }
  },
  "cells": [
    {
      "cell_type": "markdown",
      "source": [
        "Q.1.\tWhat are keywords in python? Using the keyword library, print all the python keywords.\n",
        "\n",
        "**Answer:**\n",
        "\n",
        "Keywords are special words in python. Their meaning/definition cannot be changed.\n"
      ],
      "metadata": {
        "id": "UpVG_KxynB9B"
      }
    },
    {
      "cell_type": "code",
      "source": [
        "#Program to print all the python keywords\n",
        "import keyword\n",
        "print(keyword.kwlist)\n"
      ],
      "metadata": {
        "colab": {
          "base_uri": "https://localhost:8080/"
        },
        "id": "CodPmTz6G50m",
        "outputId": "e50edd08-b1c2-4932-b209-4a4a5e5ae99e"
      },
      "execution_count": 1,
      "outputs": [
        {
          "output_type": "stream",
          "name": "stdout",
          "text": [
            "['False', 'None', 'True', 'and', 'as', 'assert', 'async', 'await', 'break', 'class', 'continue', 'def', 'del', 'elif', 'else', 'except', 'finally', 'for', 'from', 'global', 'if', 'import', 'in', 'is', 'lambda', 'nonlocal', 'not', 'or', 'pass', 'raise', 'return', 'try', 'while', 'with', 'yield']\n"
          ]
        }
      ]
    },
    {
      "cell_type": "markdown",
      "source": [
        "Q.2.\tWhat are the rules to create variables in python?\n",
        "\n",
        "**Answer:**\n",
        "\n",
        "Rules to create variables in python –\n",
        "\n",
        "i.\tIt must begin with a character\n",
        "\n",
        "ii.\tIt can contain numbers, but not as first letter\n",
        "\n",
        "iii.\tIt can begin with _\n",
        "\n",
        "iv.\tIt is case sensitive (abc and ABC are different variables)\n",
        "\n",
        "v.\tIt should not be a keyword.\n"
      ],
      "metadata": {
        "id": "FZL9FNKzHEam"
      }
    },
    {
      "cell_type": "markdown",
      "source": [
        "Q.3.\tWhat are the standards and conventions followed for the nomenclature of variables in python to improve code readability and maintainability?\n",
        "\n",
        "**Answer:**\n",
        "\n",
        "1.\tBe clear and concise.\n",
        "\n",
        "2.\tBe written in English. A general coding practice is to write code with variable names in English.\n",
        "\n",
        "3.\tNot contain special characters. Python supports use of special characters by way of various encoding options that can be given in a program.\n",
        "\n",
        "4.\tNot conflict with any Python keywords.\n"
      ],
      "metadata": {
        "id": "eHs8ZWiPHYTi"
      }
    },
    {
      "cell_type": "markdown",
      "source": [
        "Q.4.\tWhat will happen if a keyword is used as a variable name?\n",
        "\n",
        "**Answer:**\n",
        "\n",
        "If a keyword is used as a variable name then a syntax error will be generated.\n"
      ],
      "metadata": {
        "id": "Qm2cUBH8JHLg"
      }
    },
    {
      "cell_type": "markdown",
      "source": [
        "Q.5.\tFor what purpose def keyword is used?\n",
        "\n",
        "**Answer:**\n",
        "\n",
        "def keyword is used to define function in python.\n"
      ],
      "metadata": {
        "id": "KgBMN3HRJR50"
      }
    },
    {
      "cell_type": "markdown",
      "source": [
        "Q.6.\tWhat is the operation of this special character ‘\\’?\n",
        "\n",
        "**Answer:**\n",
        "\n",
        "The special character ‘\\’ is used to deal with special characters in python.\n"
      ],
      "metadata": {
        "id": "p-VFOsSBJcel"
      }
    },
    {
      "cell_type": "markdown",
      "source": [
        "Q.7.\tGive an example of the following conditions:\n",
        "\n",
        "(i)\tHomogeneous list\n",
        "\n",
        "(ii)\tHeterogeneous set\n",
        "\n",
        "(iii)\tHomogeneous tuple\n",
        "\n",
        "**Answer:**\n",
        "\n",
        "Example of Homogeneous list\n",
        "\n",
        "[1, 2, 3, 4]\n",
        "\n",
        "Example of Homogeneous set\n",
        "\n",
        "student_id = {11, 12, 15, 20}\n",
        "\n",
        "Example of Homogeneous tuple\n",
        "\n",
        "('Casey', 'Darin', 'Bella', 'Mehdi')\n"
      ],
      "metadata": {
        "id": "tThIpk9VJlYF"
      }
    },
    {
      "cell_type": "markdown",
      "source": [
        "Q.8.\tExplain the mutable and immutable data types with proper explanation & examples.\n",
        "\n",
        "\n",
        "**Answer:**\n",
        "\n",
        "Mutable data types include list in python. The list is an ordered collection of items; the items can be of same data type or different data types. e.g.  Fruits = [‘mango’, ‘banana’, ‘grapes’ ‘cherry’] is an example of list which contains the different fruits. As list is mutable (i.e. we can change) we can add. Delete or update the Fruits list.\n",
        "\n",
        "Immutable dat types include tuple in python. Tuple is an ordered collection of items; the items can be of same data type or different data types. e.g. Num = (1,2,3,4,5) is an example of tuple which contains different numbers. As tuple is immutable (i.e. we cannot change) we cannot add, delete or update an item from tuple. If we try to do the same we’ll get an error.\n"
      ],
      "metadata": {
        "id": "BKJXhF5iL9AH"
      }
    },
    {
      "cell_type": "markdown",
      "source": [
        "Q.9.\tWrite a code to create the given structure using only for loop.\n",
        "\n",
        "     *\n",
        "    ***\n",
        "   *****\n",
        "  *******\n",
        " *********\n"
      ],
      "metadata": {
        "id": "cRRC60bQMKXr"
      }
    },
    {
      "cell_type": "code",
      "source": [
        "#Program to generate given structure using for loop\n",
        "rows = 5 # Number of rows to be printed\n",
        "x = 1 # To control the number of spaces\n",
        "n = 1 # To control the number of astericks to be printed\n",
        "for i in range(0, rows):\n",
        "  print(' '*(rows-x) + '*'*(n))\n",
        "  n=n+2\n",
        "  x = x+1\n"
      ],
      "metadata": {
        "colab": {
          "base_uri": "https://localhost:8080/"
        },
        "id": "mZZv6zYtMkVU",
        "outputId": "cb756955-c9fc-42f6-856c-77fcec0323d4"
      },
      "execution_count": 2,
      "outputs": [
        {
          "output_type": "stream",
          "name": "stdout",
          "text": [
            "    *\n",
            "   ***\n",
            "  *****\n",
            " *******\n",
            "*********\n"
          ]
        }
      ]
    },
    {
      "cell_type": "markdown",
      "source": [
        "Q.10.\tWrite a code to create the given structure using while loop.\n",
        "\n",
        "|||||||||\n",
        " |||||||\n",
        "  |||||\n",
        "   |||\n",
        "    |\n"
      ],
      "metadata": {
        "id": "wmgIN52WM6pA"
      }
    },
    {
      "cell_type": "code",
      "source": [
        "# Program to generate given structure using while loop\n",
        "rows = 5 # Number of rows to be printed\n",
        "cnt = rows # cnt is a varible to control the number of times the character to be printed\n",
        "i = 0 # i is a variable to control the number of spaces\n",
        "while(i<=rows):\n",
        "  print(' '*i + '|'*(2*cnt-1))\n",
        "  i = i+1\n",
        "  cnt = cnt-1\n"
      ],
      "metadata": {
        "colab": {
          "base_uri": "https://localhost:8080/"
        },
        "id": "S7O7fhGFNCwI",
        "outputId": "1bfb8a38-9332-42cf-fa69-f7743cd471a0"
      },
      "execution_count": 3,
      "outputs": [
        {
          "output_type": "stream",
          "name": "stdout",
          "text": [
            "|||||||||\n",
            " |||||||\n",
            "  |||||\n",
            "   |||\n",
            "    |\n",
            "     \n"
          ]
        }
      ]
    }
  ]
}