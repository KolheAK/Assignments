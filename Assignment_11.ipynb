{
  "nbformat": 4,
  "nbformat_minor": 0,
  "metadata": {
    "colab": {
      "provenance": []
    },
    "kernelspec": {
      "name": "python3",
      "display_name": "Python 3"
    },
    "language_info": {
      "name": "python"
    }
  },
  "cells": [
    {
      "cell_type": "markdown",
      "source": [
        "1.\tWhat is the role of the 'else' block in a try-except statement? Provide an example scenario where it would be useful.\n",
        "\n",
        "**Answer:**\n",
        "\n",
        "The 'else' block in a try-except statement in Python is used to specify a block of code that should be executed if no exceptions are raised within the corresponding try block. It provides a way to differentiate the normal execution path from the exceptional execution path.\n",
        "\n",
        "The else block is executed only if no exceptions are raised in the try block. It allows you to perform actions that should happen when the code within the try block executes successfully."
      ],
      "metadata": {
        "id": "ICRWrkXBhGMy"
      }
    },
    {
      "cell_type": "code",
      "source": [
        "try:\n",
        "    num1 = int(input(\"Enter the first number: \"))\n",
        "    num2 = int(input(\"Enter the second number: \"))\n",
        "    result = num1 / num2\n",
        "except ValueError:\n",
        "    print(\"Invalid input. Please enter valid numbers.\")\n",
        "except ZeroDivisionError:\n",
        "    print(\"Error: Cannot divide by zero.\")\n",
        "else:\n",
        "    print(\"The division result is:\", result)\n"
      ],
      "metadata": {
        "colab": {
          "base_uri": "https://localhost:8080/"
        },
        "id": "-6cTswZ4jl7K",
        "outputId": "121fbe22-3251-4e32-a730-e5efac1e5771"
      },
      "execution_count": null,
      "outputs": [
        {
          "output_type": "stream",
          "name": "stdout",
          "text": [
            "Enter the first number: 47\n",
            "Enter the second number: 13\n",
            "The division result is: 3.6153846153846154\n"
          ]
        }
      ]
    },
    {
      "cell_type": "markdown",
      "source": [
        "2.\tCan a try-except block be nested inside another try-except block? Explain with an example\n",
        "\n",
        "**Answer:**\n",
        "\n",
        "Yes, a try-except block can indeed be nested inside another try-except block in Python. This is known as nested exception handling, and it allows for more granular handling of exceptions in different parts of the code."
      ],
      "metadata": {
        "id": "2Vp_a1pJj6PY"
      }
    },
    {
      "cell_type": "code",
      "source": [
        "try:\n",
        "    # Outer try block\n",
        "    numerator = int(input(\"Enter the numerator: \"))\n",
        "    denominator = int(input(\"Enter the denominator: \"))\n",
        "    try:\n",
        "        # Inner try block\n",
        "        result = numerator / denominator\n",
        "        print(\"Result:\", result)\n",
        "    #except ZeroDivisionError:\n",
        "     #   print(\"Error: Cannot divide by zero.\")\n",
        "    except Exception as inner_exception:\n",
        "        print(\"Inner exception occurred:\", str(inner_exception))\n",
        "except Exception as outer_exception:\n",
        "    print(\"Outer exception occurred:\", str(outer_exception))\n",
        "finally:\n",
        "    print(\"Program execution completed.\")\n"
      ],
      "metadata": {
        "colab": {
          "base_uri": "https://localhost:8080/"
        },
        "id": "i3AgUVkzkgDC",
        "outputId": "fd565432-dd80-4979-9364-bd28c01305fc"
      },
      "execution_count": null,
      "outputs": [
        {
          "output_type": "stream",
          "name": "stdout",
          "text": [
            "Enter the numerator: 12\n",
            "Enter the denominator: 0\n",
            "Inner exception occurred: division by zero\n",
            "Program execution completed.\n"
          ]
        }
      ]
    },
    {
      "cell_type": "markdown",
      "source": [
        "3.\tHow can you create a custom exception class in Python? Provide an example that demonstrates its usage.\n",
        "\n",
        "**Answer:**\n",
        "\n",
        "In Python, you can create a custom exception class by subclassing the built-in Exception class or any other existing exception class.\n",
        "\n",
        "We can define additional methods and properties in the custom exception class as per our requirements. Custom exception classes allow us to create specialized exceptions that provide more specific information about the application."
      ],
      "metadata": {
        "id": "uvw3O3pumRqN"
      }
    },
    {
      "cell_type": "code",
      "source": [
        "class CustomException(Exception):\n",
        "    \"Raised when the input value is less than 100\"\n",
        "    pass\n",
        "\n",
        "def divide_numbers(num1, num2):\n",
        "    if num2 == 0:\n",
        "        raise CustomException(\"Cannot divide by zero.\")\n",
        "    return num1 / num2\n",
        "\n",
        "try:\n",
        "    result = divide_numbers(10, 0)\n",
        "    print(\"Result:\", result)\n",
        "except CustomException as e:\n",
        "    print(\"Custom exception occurred:\", str(e))\n"
      ],
      "metadata": {
        "colab": {
          "base_uri": "https://localhost:8080/"
        },
        "id": "nBOI_stUn6ST",
        "outputId": "e2d41fb4-0196-48f7-cbb9-41dbf490c034"
      },
      "execution_count": null,
      "outputs": [
        {
          "output_type": "stream",
          "name": "stdout",
          "text": [
            "Custom exception occurred: Cannot divide by zero.\n"
          ]
        }
      ]
    },
    {
      "cell_type": "markdown",
      "source": [
        "4.\tWhat are some common exceptions that are built-in to Python?\n",
        "\n",
        "**Answer:**\n",
        "\n",
        "Python provides several built-in exceptions that cover various types of errors that can occur during program execution. Here are some common exceptions that are built-in to Python:\n",
        "\n",
        "SyntaxError: Raised when there is a syntax error in the code.\n",
        "\n",
        "IndentationError: Raised when there is an indentation-related error, such as inconsistent or incorrect indentation.\n",
        "\n",
        "NameError: Raised when a local or global name is not found.\n",
        "\n",
        "TypeError: Raised when an operation or function is applied to an object of an inappropriate type.\n",
        "\n",
        "ValueError: Raised when a function receives an argument of the correct type but an inappropriate value.\n",
        "\n",
        "IndexError: Raised when a sequence subscript is out of range.\n",
        "\n",
        "KeyError: Raised when a dictionary key is not found.\n",
        "\n",
        "FileNotFoundError: Raised when a file or directory is not found.\n",
        "\n",
        "ZeroDivisionError: Raised when division or modulo operation is performed with zero as the divisor.\n",
        "\n",
        "OverflowError: Raised when the result of an arithmetic operation is too large to be expressed within the available range.\n",
        "\n",
        "IOError: Raised when an I/O operation (such as reading or writing to a file) fails.\n"
      ],
      "metadata": {
        "id": "ypELSR93p8D3"
      }
    },
    {
      "cell_type": "markdown",
      "source": [
        "5.\tWhat is logging in Python, and why is it important in software development?\n",
        "\n",
        "**Answer:**\n",
        "\n",
        "Logging in Python refers to the process of recording events, messages, and other relevant information during the execution of a program. It involves capturing and storing log records to provide insights into the behavior and state of the application. The Python standard library provides a built-in module called `logging` that facilitates logging capabilities.\n",
        "\n",
        "Logging is essential in software development for several reasons:\n",
        "\n",
        "1. **Debugging and Troubleshooting:** Logging allows developers to track and diagnose issues by providing detailed information about the program's execution. It helps in identifying errors, exceptions, and unexpected behavior, enabling faster debugging and troubleshooting.\n",
        "\n",
        "2. **Error Reporting and Analysis:** Logs serve as valuable resources for error reporting and analysis. By logging relevant information when errors occur, developers can review the logs later to understand the root causes, patterns, and trends of errors. This aids in identifying and addressing recurring issues effectively.\n",
        "\n",
        "3. **Monitoring and Performance Analysis:** Logging can assist in monitoring the performance of an application. By logging timestamps, execution times, and other performance-related data, developers can analyze the application's performance, identify bottlenecks, and optimize code or system resources as needed.\n",
        "\n",
        "4. **Auditing and Compliance:** Logging is important for auditing and compliance purposes. By logging critical events and actions, such as user interactions, system changes, or security-related activities, developers can maintain a record of actions performed within the application. These logs can be useful for compliance with regulations, security audits, or forensic analysis.\n",
        "\n",
        "5. **Progress Tracking and Reporting:** Logging progress messages during the execution of long-running processes or tasks helps developers and stakeholders track the progress of the program. It allows for better monitoring, reporting, and transparency in complex applications.\n",
        "\n",
        "6. **Maintenance and Maintenance Planning:** Logs provide insights into the usage patterns, usage statistics, and issues faced by end-users. This information can guide maintenance activities, such as identifying frequently used features, identifying areas for improvement, and planning future updates or bug fixes.\n"
      ],
      "metadata": {
        "id": "iyrT6XsiquIY"
      }
    },
    {
      "cell_type": "markdown",
      "source": [
        "6.\tExplain the purpose of log levels in Python logging and provide examples of when each log level would be appropriate.\n",
        "\n",
        "**Answer:**\n",
        "\n",
        "In Python logging, log levels are used to categorize log messages based on their severity or importance. The `logging` module in Python provides several predefined log levels that allow developers to control the verbosity and filtering of log messages. The purpose of log levels is to enable flexible and granular control over the amount of information that gets logged. Here are the commonly used log levels in Python logging:\n",
        "\n",
        "1. **DEBUG**: The lowest log level used for detailed diagnostic information. It is typically used during development and debugging to provide fine-grained information about the program's internal state, variable values, and execution flow. Example usage: Logging variable values or intermediate steps during algorithm processing.\n",
        "\n",
        "2. **INFO**: This log level provides informational messages that indicate the normal progress and behavior of an application. It is used to confirm that certain operations or events have occurred successfully. Example usage: Logging successful startup of the application or important milestones reached during program execution.\n",
        "\n",
        "3. **WARNING**: This log level indicates potential issues or situations that could lead to errors or unexpected behavior. It highlights conditions that might require attention but do not necessarily interrupt the normal execution of the program. Example usage: Logging deprecation warnings, non-critical configuration issues, or unexpected input values.\n",
        "\n",
        "4. **ERROR**: The log level for recording errors that occurred during program execution. It indicates that an error has occurred, but it may not necessarily lead to program termination. Example usage: Logging exceptions, caught errors, or failed operations that can be handled gracefully.\n",
        "\n",
        "5. **CRITICAL**: The highest log level, used for critical errors or exceptions that cause program termination or major malfunctions. It represents severe issues that require immediate attention. Example usage: Logging fatal errors, unrecoverable exceptions, or critical failures that render the application unusable."
      ],
      "metadata": {
        "id": "2nU3WxOtsa_l"
      }
    },
    {
      "cell_type": "code",
      "source": [
        "# Example demonstrating the usage of log levels in Python logging\n",
        "import logging\n",
        "\n",
        "# Configure the logging module\n",
        "logging.basicConfig(level=logging.DEBUG)\n",
        "\n",
        "# Log messages at different log levels\n",
        "logging.debug(\"This is a debug message\")\n",
        "logging.info(\"This is an informational message\")\n",
        "logging.warning(\"This is a warning message\")\n",
        "logging.error(\"This is an error message\")\n",
        "logging.critical(\"This is a critical message\")"
      ],
      "metadata": {
        "colab": {
          "base_uri": "https://localhost:8080/"
        },
        "id": "y2_OPvP2SP31",
        "outputId": "88a38018-940f-482b-f8ed-1722a7e57391"
      },
      "execution_count": null,
      "outputs": [
        {
          "output_type": "stream",
          "name": "stderr",
          "text": [
            "WARNING:root:This is a warning message\n",
            "ERROR:root:This is an error message\n",
            "CRITICAL:root:This is a critical message\n"
          ]
        }
      ]
    },
    {
      "cell_type": "markdown",
      "source": [
        "In this example, the log level is set to `DEBUG` using `basicConfig()`, which means all log messages will be captured. However, you can modify the log level to any desired level depending on your requirements.\n",
        "\n",
        "By default, the log messages are displayed on the console."
      ],
      "metadata": {
        "id": "I_X7ckIWSy3C"
      }
    },
    {
      "cell_type": "markdown",
      "source": [
        "7.\tWhat are log formatters in Python logging, and how can you customise the log message format using formatters?\n",
        "\n",
        "**Answer:**\n",
        "\n",
        "In Python logging, log formatters are used to define the structure and format of log messages. They determine how log records are converted into human-readable strings when they are written to the log output. Formatters provide flexibility in customizing the content and appearance of log messages, allowing developers to include specific information such as timestamps, log levels, module names, or custom details.\n",
        "\n",
        "The logging module in Python provides a built-in Formatter class that can be used to create log formatters. The Formatter class offers various formatting options and placeholders that can be used to specify the desired format of log messages.\n",
        "\n",
        "To customize the log message format using formatters, we need to follow these steps:\n",
        "\n",
        "1. Import the logging module\n",
        "2. Create a Formatter instance and specify the desired log message format\n",
        "3. Configure a logging handler and assign the created formatter to it\n",
        "4. Configure the logger and attach the handler to it\n",
        "\n",
        "By customizing the format string in the Formatter, you can include various attributes and placeholders to display specific information in the log message.\n",
        "Some commonly used placeholders are as follows.\n",
        "\n",
        "%(asctime)s: Timestamp of the log record.\n",
        "\n",
        "\n",
        "%(levelname)s: Log level name (e.g., DEBUG, INFO, WARNING, ERROR, CRITICAL).\n",
        "\n",
        "%(message)s: The actual log message.\n",
        "\n",
        "%(name)s: The name of the logger that emitted the log record.\n",
        "\n",
        "%(module)s: The module name where the logging call was made.\n",
        "\n",
        "%(lineno)d: The line number where the logging call was made.\n",
        "\n"
      ],
      "metadata": {
        "id": "i54LA2BiToEU"
      }
    },
    {
      "cell_type": "code",
      "source": [
        "# Example that demonstrates the customization of log message format using formatters\n",
        "import logging\n",
        "\n",
        "# Create a Formatter with custom format\n",
        "formatter = logging.Formatter('%(asctime)s - %(levelname)s - %(message)s')\n",
        "\n",
        "# Create a StreamHandler and assign the formatter to it\n",
        "handler = logging.StreamHandler()\n",
        "handler.setFormatter(formatter)\n",
        "\n",
        "# Create a logger, add the handler, and set the log level\n",
        "logger = logging.getLogger('my_logger')\n",
        "logger.addHandler(handler)\n",
        "logger.setLevel(logging.DEBUG)\n",
        "\n",
        "# Log messages\n",
        "logger.debug('This is a debug message')\n",
        "logger.info('This is an informational message')\n",
        "logger.warning('This is a warning message')\n"
      ],
      "metadata": {
        "colab": {
          "base_uri": "https://localhost:8080/"
        },
        "id": "XPVRRpHuV5qG",
        "outputId": "de96f343-d31f-4201-dd2d-17da7bd73009"
      },
      "execution_count": null,
      "outputs": [
        {
          "output_type": "stream",
          "name": "stderr",
          "text": [
            "2023-06-22 18:22:42,119 - DEBUG - This is a debug message\n",
            "DEBUG:my_logger:This is a debug message\n",
            "2023-06-22 18:22:42,124 - INFO - This is an informational message\n",
            "INFO:my_logger:This is an informational message\n",
            "2023-06-22 18:22:42,129 - WARNING - This is a warning message\n",
            "WARNING:my_logger:This is a warning message\n"
          ]
        }
      ]
    },
    {
      "cell_type": "markdown",
      "source": [
        "8.\tHow can you set up logging to capture log messages from multiple modules or classes in a Python application?\n",
        "\n",
        "**Answer:**\n",
        "\n",
        "To capture log messages from multiple modules or classes in a Python application, we can use the logging module's ability to create and configure multiple loggers. Each logger can be associated with a specific module or class, allowing you to control the logging behavior for different parts of your application"
      ],
      "metadata": {
        "id": "AaVnLdAfW1MB"
      }
    },
    {
      "cell_type": "code",
      "source": [
        "# Example of how we can set up logging to capture messages from multiple modules or classes\n",
        "import logging\n",
        "\n",
        "# Set up logging configuration\n",
        "logging.basicConfig(\n",
        "    level=logging.DEBUG,\n",
        "    format='%(asctime)s [%(levelname)s] %(module)s - %(message)s',\n",
        "    handlers=[\n",
        "        logging.FileHandler('application.log'),\n",
        "        logging.StreamHandler()\n",
        "    ])\n",
        "\n",
        "# Create a logger for module A\n",
        "logger_a = logging.getLogger('module_a')\n",
        "logger_a.setLevel(logging.DEBUG)\n",
        "\n",
        "# Create a logger for module B\n",
        "logger_b = logging.getLogger('module_b')\n",
        "logger_b.setLevel(logging.WARNING)\n",
        "\n",
        "# Create a logger for class C\n",
        "logger_c = logging.getLogger('module_a.class_c')\n",
        "logger_c.setLevel(logging.ERROR)\n",
        "\n",
        "# Example usage in module A\n",
        "def some_function():\n",
        "    logger_a.debug('Debug message')\n",
        "    logger_a.info('Info message')\n",
        "    logger_a.warning('Warning message')\n",
        "    logger_a.error('Error message')\n",
        "\n",
        "# Example usage in module B\n",
        "def another_function():\n",
        "    logger_b.debug('Debug message')\n",
        "    logger_b.info('Info message')\n",
        "    logger_b.warning('Warning message')\n",
        "    logger_b.error('Error message')\n",
        "\n",
        "# Example usage in class C\n",
        "class MyClass:\n",
        "    def __init__(self):\n",
        "        self.logger = logging.getLogger('module_a.class_c')\n",
        "\n",
        "    def some_method(self):\n",
        "        self.logger.debug('Debug message')\n",
        "        self.logger.info('Info message')\n",
        "        self.logger.warning('Warning message')\n",
        "        self.logger.error('Error message')\n",
        "\n",
        "# Test the logging\n",
        "some_function()\n",
        "another_function()\n",
        "\n",
        "obj = MyClass()\n",
        "obj.some_method()\n"
      ],
      "metadata": {
        "colab": {
          "base_uri": "https://localhost:8080/"
        },
        "id": "e74Mp2Cjz2PQ",
        "outputId": "beb1503b-d6e7-4480-ef91-37fd1a69de1c"
      },
      "execution_count": 2,
      "outputs": [
        {
          "output_type": "stream",
          "name": "stderr",
          "text": [
            "DEBUG:module_a:Debug message\n",
            "INFO:module_a:Info message\n",
            "WARNING:module_a:Warning message\n",
            "ERROR:module_a:Error message\n",
            "WARNING:module_b:Warning message\n",
            "ERROR:module_b:Error message\n",
            "ERROR:module_a.class_c:Error message\n"
          ]
        }
      ]
    },
    {
      "cell_type": "markdown",
      "source": [
        "9.\tWhat is the difference between the logging and print statements in Python? When should you use logging over print statements in a real-world application?\n",
        "\n",
        "**Answer:**\n",
        "\n",
        " The  differences between logging and print statements are as follows.\n",
        "\n",
        "**1. Output Destination:** The print statement sends output directly to the standard output (typically the console), while logging allows you to configure different output destinations, such as console, log files, or external logging services.\n",
        "\n",
        "**2. Flexibility and Control:** Logging provides more flexibility and control over the log messages. It allows you to specify log levels, format the log messages, and selectively enable or disable logging based on different conditions. Print statements, on the other hand, offer limited control and formatting options.\n",
        "\n",
        "**3. Log Levels and Filtering:** Logging supports log levels (e.g., DEBUG, INFO, WARNING, ERROR, CRITICAL), allowing you to categorize log messages based on their severity. This enables filtering and controlling the verbosity of log output. Print statements, by default, do not have built-in support for log levels or filtering.\n",
        "\n",
        "**4. Debugging and Troubleshooting:** Logging is primarily used for debugging, troubleshooting, and production monitoring purposes. It provides a systematic and structured approach to capturing log information, including timestamps, log levels, and contextual details. Print statements are more suitable for quick and temporary debugging purposes but lack the structured and customizable nature of logging.\n",
        "\n",
        "In a real-world  application, it is generally recommended to use logging over print statements for the following scenarios:\n",
        "\n",
        "**1. Production Environments:** When running the application in a production environment, logging is preferred over print statements. Logging provides more control, configurability, and flexibility in managing log output. It allows you to capture relevant information without cluttering the console or interfering with the application's normal operation.\n",
        "\n",
        "**2. Debugging and Troubleshooting:** Logging is especially useful for debugging and troubleshooting purposes. Instead of scattering print statements throughout the code, logging allows you to strategically place log statements at critical points in the application to track the flow of execution, variable values, and important events. Log messages can provide valuable insights into the application's behavior, making it easier to identify and resolve issues.\n",
        "\n",
        "**3. Long-Running Applications:** For long-running applications, such as servers or daemons, logging is crucial for monitoring and analyzing the application's behavior over time. Log messages can be stored in log files, allowing you to review historical data and identify patterns or anomalies. This is particularly important for diagnosing intermittent issues or investigating problems that occurred in the past.\n",
        "\n",
        "**4. Multiple Output Destinations:** Logging allows you to configure multiple output destinations for log messages. In addition to console output, you can write log messages to log files, external logging services, or even send them to email or notification systems. This flexibility is not available with print statements, which are limited to printing to the console.\n",
        "\n",
        "**5. Selective Logging and Log Levels:** Logging provides the concept of log levels (e.g., DEBUG, INFO, WARNING, ERROR, CRITICAL) that allow you to filter and control the verbosity of log output. This is crucial for managing the volume of log information, especially in complex applications. With log levels, you can set different levels of detail for different parts of the application and enable or disable logging based on specific conditions or requirements.\n",
        "\n",
        "**6. Integration with Logging Frameworks and Services:** Logging can easily integrate with third-party logging frameworks and services, such as log aggregators, log management systems, or monitoring tools. This allows you to centralize log data, perform advanced log analysis, and gain valuable insights into the application's performance, usage patterns, and potential issues.\n",
        "\n"
      ],
      "metadata": {
        "id": "Htq09IK_I0sS"
      }
    },
    {
      "cell_type": "markdown",
      "source": [
        "10.\tWrite a Python program that logs a message to a file named \"app.log\" with the following requirements:\n",
        "\n",
        "●\tThe log message should be \"Hello, World!\"\n",
        "\n",
        "●\tThe log level should be set to \"INFO.\"\n",
        "\n",
        "●\tThe log file should append new log entries without overwriting previous ones.\n",
        "\n",
        "\n",
        "**Answer:**"
      ],
      "metadata": {
        "id": "MJMb2riMSx3z"
      }
    },
    {
      "cell_type": "code",
      "source": [
        "# a Python program that logs a message to a file named \"app.log\" with The log message should be \"Hello, World!\"\n",
        "# The log level should be set to \"INFO.\"\n",
        "# The log file should append new log entries without overwriting previous ones.\n",
        "import logging\n",
        "\n",
        "# Configure logging to write to file\n",
        "logging.basicConfig(filename='app.log', level=logging.INFO)\n",
        "\n",
        "# Log the message\n",
        "logging.info('Hello, World!')\n",
        "\n"
      ],
      "metadata": {
        "id": "TjuB2eAxS_s8"
      },
      "execution_count": null,
      "outputs": []
    },
    {
      "cell_type": "markdown",
      "source": [
        "11.\tCreate a Python program that logs an error message to the console and a file named \"errors.log\" if an exception occurs during the program's execution. The error message should include the exception type and a timestamp.\n",
        "\n",
        "**Answer:**"
      ],
      "metadata": {
        "id": "SXYJaXU2b57P"
      }
    },
    {
      "cell_type": "code",
      "source": [
        "# Python program that logs an error message to the console and a file named \"errors.log\" if an exception occurs during the program's execution\n",
        "import logging\n",
        "import traceback\n",
        "import datetime\n",
        "\n",
        "# Set up logging configuration\n",
        "logging.basicConfig(\n",
        "    level=logging.ERROR,\n",
        "    format='%(asctime)s [%(levelname)s] %(message)s',\n",
        "    handlers=[\n",
        "        logging.FileHandler('errors.log'),\n",
        "        logging.StreamHandler()\n",
        "    ])\n",
        "\n",
        "def log_error(exception):\n",
        "    # Get current timestamp\n",
        "    timestamp = datetime.datetime.now().strftime('%Y-%m-%d %H:%M:%S')\n",
        "\n",
        "    # Create error message\n",
        "    error_message = f'[{timestamp}] Exception: {exception}\\n'\n",
        "\n",
        "    # Log the error\n",
        "    logging.error(error_message)\n",
        "    print(error_message)  # Print the error to console as well\n",
        "\n",
        "# Example code that might raise an exception\n",
        "def divide_numbers(a, b):\n",
        "    try:\n",
        "        result = a / b\n",
        "        print(f\"The result of division is: {result}\")\n",
        "    except Exception as e:\n",
        "        log_error(e)\n",
        "        traceback.print_exc()\n",
        "\n",
        "# Test the program\n",
        "divide_numbers(10, 0)  # This will raise a ZeroDivisionError\n"
      ],
      "metadata": {
        "colab": {
          "base_uri": "https://localhost:8080/"
        },
        "id": "eN7_r_tndAe3",
        "outputId": "464c2eeb-b1a9-426d-bdd2-0956fc2af2c7"
      },
      "execution_count": 1,
      "outputs": [
        {
          "output_type": "stream",
          "name": "stderr",
          "text": [
            "ERROR:root:[2023-06-23 18:12:05] Exception: division by zero\n",
            "\n"
          ]
        },
        {
          "output_type": "stream",
          "name": "stdout",
          "text": [
            "[2023-06-23 18:12:05] Exception: division by zero\n",
            "\n"
          ]
        },
        {
          "output_type": "stream",
          "name": "stderr",
          "text": [
            "Traceback (most recent call last):\n",
            "  File \"<ipython-input-1-c3fc754c5939>\", line 29, in divide_numbers\n",
            "    result = a / b\n",
            "ZeroDivisionError: division by zero\n"
          ]
        }
      ]
    }
  ]
}