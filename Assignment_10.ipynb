{
  "nbformat": 4,
  "nbformat_minor": 0,
  "metadata": {
    "colab": {
      "provenance": []
    },
    "kernelspec": {
      "name": "python3",
      "display_name": "Python 3"
    },
    "language_info": {
      "name": "python"
    }
  },
  "cells": [
    {
      "cell_type": "markdown",
      "source": [
        "1.\tWhat is the role of try and exception block?\n",
        "\n",
        "**Answer:**\n",
        "\n",
        " In Python, a try and except block is used to handle errors and exceptions that may occur during the execution of a program.\n",
        "\n",
        " The try block contains the code that may raise an exception, while the except block contains the code that is executed if an exception is raised.\n",
        "\n",
        " This prevents the programme from crashing and enables it to handle errors."
      ],
      "metadata": {
        "id": "aYgINUUzRPhf"
      }
    },
    {
      "cell_type": "markdown",
      "source": [
        "2.\tWhat is the syntax for a basic try-except block?\n",
        "\n",
        "**Answer:**\n",
        "\n",
        "try:\n",
        "##code to be executed\n",
        "except ExceptionType:\n",
        "## code to be executed if an exception of type ExceptionType is raised\n",
        "\n",
        "First, the try clause is executed i.e. the code in try.\n",
        "If there is no exception, then only the try clause will execute, except clause is not executed.\n",
        "If any exception occurs, the try clause will be skipped and except clause will be executed.\n",
        "If any exception occurs, but the except clause within the code doesn’t handle it, it is passed on to the outer try statements. If the exception is left unhandled, then the execution stops.\n",
        "A try statement can have more than one except clause."
      ],
      "metadata": {
        "id": "7E00FiD4TYIe"
      }
    },
    {
      "cell_type": "code",
      "source": [
        "# syntax for a basic try-except block\n",
        "\n",
        "try:\n",
        "#code to be executed\n",
        "except ExceptionType:\n",
        "# code to be executed if an exception of type ExceptionType is raised\n",
        "\n",
        "\n"
      ],
      "metadata": {
        "id": "cOcPvBFtYScu"
      },
      "execution_count": null,
      "outputs": []
    },
    {
      "cell_type": "markdown",
      "source": [
        "3.\tWhat happens if an exception occurs inside a try block and there is no matching except block?\n",
        "\n",
        "**Answer:**\n",
        "\n",
        "If an exception occurs inside a try block and there is no matching except block in Python, the program will terminate and display an error message. This is because the exception is not caught and handled, so the program cannot continue executing."
      ],
      "metadata": {
        "id": "76Y68-WFVNb_"
      }
    },
    {
      "cell_type": "markdown",
      "source": [
        "4.\t\tWhat is the difference between using a bare except block and specifying a specific exception type?\n",
        "\n",
        "**Answer:**\n",
        "\n",
        "In Python, using a bare except block means that any exception that occurs will be caught and handled by that block. This is dangerous because it can hide errors that we may want to know about.\n",
        "\n",
        "On the other hand, specifying a specific exception type means that only that type of exception will be caught and handled by the block. This can be more precise and help us to identify and fix errors more easily."
      ],
      "metadata": {
        "id": "ntEfX51vWgck"
      }
    },
    {
      "cell_type": "markdown",
      "source": [
        "5.\tCan you have nested try-except blocks in Python? If yes, then give an example.\n",
        "\n",
        "**Answer:**\n",
        "\n",
        "\n",
        "Yes, we can have nested try-except blocks in Python. This allows us to handle different types of exceptions at different levels of the code.\n",
        "\n",
        "For example, we might have a try block that contains another try block, and each one has its own except block to handle any exceptions that might occur.\n",
        "\n",
        "However, nesting too many try-except blocks can make the code harder to read and maintain.\n",
        "\n",
        "\n"
      ],
      "metadata": {
        "id": "CbG40nzTXPe_"
      }
    },
    {
      "cell_type": "code",
      "source": [
        "try:\n",
        "   print(\"outer try block\")\n",
        "   try:\n",
        "       print(\"Inner try block\")\n",
        "   except ZeroDivisionError:\n",
        "       print(\"Inner except block\")\n",
        "   finally:\n",
        "       print(\"Inner finally block\")\n",
        "except:\n",
        "   print(\"outer except block\")\n",
        "finally:\n",
        "   print(\"outer finally block\")"
      ],
      "metadata": {
        "colab": {
          "base_uri": "https://localhost:8080/"
        },
        "id": "nNVELKtIaCgY",
        "outputId": "13f01de0-64d5-4434-b6d5-b0e1ad9a8050"
      },
      "execution_count": 1,
      "outputs": [
        {
          "output_type": "stream",
          "name": "stdout",
          "text": [
            "outer try block\n",
            "Inner try block\n",
            "Inner finally block\n",
            "outer finally block\n"
          ]
        }
      ]
    },
    {
      "cell_type": "markdown",
      "source": [
        "6.\tCan we use multiple exception blocks, if yes then give an example.\n",
        "\n",
        "**Answer:**\n",
        "\n",
        "es, we can use multiple exception blocks in Python. This allows us to handle different types of exceptions separately.\n",
        "\n",
        "For example:\n",
        "\n",
        "\n",
        "try:\n",
        "\n",
        "\n",
        "# some code that may raise an exception\n",
        "\n",
        "\n",
        "except ValueError:\n",
        "\n",
        "\n",
        "# handle ValueError exception\n",
        "\n",
        "\n",
        "except TypeError:\n",
        "\n",
        "\n",
        "# handle TypeError exception\n",
        "\n",
        "\n",
        "except:\n",
        "\n",
        "\n",
        "# handle any other exception\n",
        "\n",
        "\n"
      ],
      "metadata": {
        "id": "yMmrvMO4N4wa"
      }
    },
    {
      "cell_type": "code",
      "source": [
        "try:\n",
        "    name = 'Anjali'\n",
        "    name += 15\n",
        "except NameError:\n",
        "    # Code to handle NameError\n",
        "    print('Name Error')\n",
        "except TypeError:\n",
        "    # Code to handle TypeError\n",
        "    print('Type Error')\n"
      ],
      "metadata": {
        "colab": {
          "base_uri": "https://localhost:8080/"
        },
        "id": "Dp-oyoH5PcmV",
        "outputId": "137cf2c6-fb38-4444-fcc6-790b4423c64c"
      },
      "execution_count": 4,
      "outputs": [
        {
          "output_type": "stream",
          "name": "stdout",
          "text": [
            "Type Error\n"
          ]
        }
      ]
    },
    {
      "cell_type": "markdown",
      "source": [
        "7.\tWrite the reason due to which following errors are raised:\n",
        "a.\tEOFError\n",
        "b.\tFloatingPointError\n",
        "c.\tIndexError\n",
        "d.\tMemoryError\n",
        "e.\tOverflowError\n",
        "f.\tTabError\n",
        "g.\tValueError\n",
        "\n",
        "\n",
        "**Answer:**\n",
        "\n",
        "a.\tEOFError - raised when there is no input from an input() function\n",
        "\n",
        "b.\tFloatingPointError - raised when a floating point operation fails\n",
        "\n",
        "c.\tIndexError - raised when an index is out of range\n",
        "\n",
        "d.\tMemoryError - raised when an operation runs out of memory\n",
        "\n",
        "e.\tOverflowError - raised when a calculation exceeds the maximum limit of that numeric type\n",
        "\n",
        "f.\tTabError - raised when indentation is incorrect\n",
        "\n",
        "g.\tValueError - raised when a function argument is of the correct type but has an inappropriate value\n"
      ],
      "metadata": {
        "id": "cCXGn0WPP6kO"
      }
    },
    {
      "cell_type": "markdown",
      "source": [
        "8.\tWrite code for the following given scenario and add try-exception block to it.\n",
        "a.\tProgram to divide two numbers\n",
        "b.\tProgram to convert a string to an integer\n",
        "c.\tProgram to access an element in a list\n",
        "d.\tProgram to handle a specific exception\n",
        "e.\tProgram to handle any exception\n",
        "\n",
        "\n",
        "**Answer:**\n"
      ],
      "metadata": {
        "id": "Bm5wGLXNSEuJ"
      }
    },
    {
      "cell_type": "code",
      "source": [
        "# a. Program to divide two numbers and add try-exception block to it.\n",
        "n1 = int(input('Entr a number'))\n",
        "n2 = int(input('Entr a number'))\n",
        "try:\n",
        "  result = n1/n2\n",
        "  print(result)\n",
        "except ZeroDivisionError:\n",
        "  print('second number n2 should not be zero')\n"
      ],
      "metadata": {
        "colab": {
          "base_uri": "https://localhost:8080/"
        },
        "id": "0EkBSYELSNl2",
        "outputId": "2ed24a0d-142d-471d-f3ee-efef4283719e"
      },
      "execution_count": 3,
      "outputs": [
        {
          "output_type": "stream",
          "name": "stdout",
          "text": [
            "Entr a number4\n",
            "Entr a number0\n",
            "second number n2 should not be zero\n"
          ]
        }
      ]
    },
    {
      "cell_type": "code",
      "source": [
        "# b.\tProgram to convert a string to an integer and add try-exception block to it.\n",
        "try:\n",
        "  string_num = \"123a\"\n",
        "  integer_num = int(string_num)\n",
        "  print(\"The integer value is:\", integer_num)\n",
        "except ValueError:\n",
        "  print(\"Error: The string cannot be converted to an integer.\")"
      ],
      "metadata": {
        "colab": {
          "base_uri": "https://localhost:8080/"
        },
        "id": "8lHP57RRUHYW",
        "outputId": "9479220d-f2ca-4c15-c464-2e13b885bfe6"
      },
      "execution_count": 7,
      "outputs": [
        {
          "output_type": "stream",
          "name": "stdout",
          "text": [
            "Error: The string cannot be converted to an integer.\n"
          ]
        }
      ]
    },
    {
      "cell_type": "code",
      "source": [
        "# c.\tProgram to access an element in a list and add try-exception block to it.\n",
        "lst = [11, 22, 33, 44, 55]\n",
        "try:\n",
        "  print(lst[7])\n",
        "except IndexError:\n",
        "  print(\"Index out of range\")\n"
      ],
      "metadata": {
        "colab": {
          "base_uri": "https://localhost:8080/"
        },
        "id": "QjErc6ryVtA9",
        "outputId": "0d8d4cc8-97b6-4784-ca70-bedfb7af13c7"
      },
      "execution_count": 10,
      "outputs": [
        {
          "output_type": "stream",
          "name": "stdout",
          "text": [
            "Index out of range\n"
          ]
        }
      ]
    },
    {
      "cell_type": "code",
      "source": [
        "# d.\tProgram to handle a specific exception - ValueError\n",
        "try:\n",
        "    # Code that may raise a ValueError\n",
        "    number = int(input(\"Enter a number: \"))\n",
        "    result = 100 / number\n",
        "    print(\"Result:\", result)\n",
        "except ValueError:\n",
        "    print(\"Invalid input. Please enter a valid number.\")\n",
        "except ZeroDivisionError:\n",
        "    print(\"Cannot divide by zero.\")\n",
        "finally:\n",
        "    print(\"Program terminated Successfully.\")\n"
      ],
      "metadata": {
        "colab": {
          "base_uri": "https://localhost:8080/"
        },
        "id": "1WsU1lred-OD",
        "outputId": "e6cd13a2-d4ef-4086-82c4-19cebb52339d"
      },
      "execution_count": 21,
      "outputs": [
        {
          "output_type": "stream",
          "name": "stdout",
          "text": [
            "Enter a number: 5r\n",
            "Invalid input. Please enter a valid number.\n",
            "Program terminated Successfully.\n"
          ]
        }
      ]
    },
    {
      "cell_type": "code",
      "source": [
        "# e.\tProgram to handle any exception - Here 'IndexError'\n",
        "try:\n",
        "    # Code that may raise an IndexError\n",
        "    my_list = [1, 2, 3]\n",
        "    index = int(input(\"Enter an index: \"))\n",
        "    value = my_list[index]\n",
        "    print(\"Value at index\", index, \"is\", value)\n",
        "except IndexError:\n",
        "    print(\"Index out of range. Please enter a valid index.\")\n",
        "finally:\n",
        "    print(\"Program terminated Successfully.\")\n"
      ],
      "metadata": {
        "colab": {
          "base_uri": "https://localhost:8080/"
        },
        "id": "BRvSsaD9eBj0",
        "outputId": "d6542a87-a145-4484-f238-98d4e9ad6418"
      },
      "execution_count": 20,
      "outputs": [
        {
          "output_type": "stream",
          "name": "stdout",
          "text": [
            "Enter an index: 5\n",
            "Index out of range. Please enter a valid index.\n",
            "Program terminated Successfully.\n"
          ]
        }
      ]
    }
  ]
}