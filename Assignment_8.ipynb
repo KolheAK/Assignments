{
  "nbformat": 4,
  "nbformat_minor": 0,
  "metadata": {
    "colab": {
      "provenance": []
    },
    "kernelspec": {
      "name": "python3",
      "display_name": "Python 3"
    },
    "language_info": {
      "name": "python"
    }
  },
  "cells": [
    {
      "cell_type": "markdown",
      "source": [
        "1.\tIn Python, what is the difference between a built-in function and a user-defined function? Provide an example of each.\n",
        "\n",
        "**Answer:**\n",
        "\n",
        "In python built-in functions are pre-defined in the python interpreter or the libraries. We can use it by providing required arguments. e.g. len() is a built-in function.\n"
      ],
      "metadata": {
        "id": "bHJ6OchEtWgQ"
      }
    },
    {
      "cell_type": "code",
      "source": [
        "# Built-in function\n",
        "s1 = \"iNeuron\"\n",
        "print(len(s1))"
      ],
      "metadata": {
        "colab": {
          "base_uri": "https://localhost:8080/"
        },
        "id": "c23TE-jAu0AZ",
        "outputId": "8f94ec2c-02ac-4b47-8885-2d7c89dd38ce"
      },
      "execution_count": 10,
      "outputs": [
        {
          "output_type": "stream",
          "name": "stdout",
          "text": [
            "7\n"
          ]
        }
      ]
    },
    {
      "cell_type": "markdown",
      "source": [
        "In python, we can define/create our own functions called as user defined functions. The user defined functions are defined using the keyword  - def. Then we need to execute it and call it whenever we need it, as many times as we want.\n",
        "e.g. A user defined function add is defined and used in the following code."
      ],
      "metadata": {
        "id": "dq1v40TdvA25"
      }
    },
    {
      "cell_type": "code",
      "source": [
        "#User Defined Function\n",
        "def add(a,b):\n",
        "  addition = a + b\n",
        "  return(addition)\n",
        "\n",
        "num1 = float(input('Enter a number'))\n",
        "num2 = float(input('Enter a number'))\n",
        "a = add(num1,num2)\n",
        "print(a)\n",
        "num3 = float(input('Enter a number'))\n",
        "num4 = float(input('Enter a number'))\n",
        "b = add(num3,num4)\n",
        "print(b)\n"
      ],
      "metadata": {
        "colab": {
          "base_uri": "https://localhost:8080/"
        },
        "id": "LCQ2GyoMvmm6",
        "outputId": "1fba49ac-cf42-44f3-9619-cbae9cfdc9c6"
      },
      "execution_count": 11,
      "outputs": [
        {
          "output_type": "stream",
          "name": "stdout",
          "text": [
            "Enter a number4\n",
            "Enter a number6\n",
            "10.0\n",
            "Enter a number7\n",
            "Enter a number9\n",
            "16.0\n"
          ]
        }
      ]
    },
    {
      "cell_type": "markdown",
      "source": [
        "2.\tHow can you pass arguments to a function in Python? Explain the difference between positional arguments and keyword arguments.\n",
        "\n",
        "**Answer:**\n",
        "\n",
        "We can pass arguments to a function in python by specifying the arguments in the parentheses following the function name.\n",
        "\n",
        "def my_function(arg1, arg2):\n",
        "\n",
        "\n",
        "Then, when we call the function, we would pass in the arguments like this:\n",
        "my_function(value1, value2)\n",
        "\n",
        "The values you pass in will be assigned to the corresponding argument variables in the function definition.\n",
        "\n",
        "In Python, positional arguments are passed to a function based on their position in the argument list, while keyword arguments are passed to a function based on their name. Positional arguments are mandatory and must be passed in the correct order, while keyword arguments are optional and can be passed in any order. Keyword arguments are often used to provide default values for function parameters, while positional arguments are used to specify the actual values to be used in the function.\n",
        "\n"
      ],
      "metadata": {
        "id": "Af-CEisQwkHZ"
      }
    },
    {
      "cell_type": "markdown",
      "source": [
        "3.\tWhat is the purpose of the return statement in a function? Can a function have multiple return statements? Explain with an example\n",
        "\n",
        "**Answer:**\n",
        "\n",
        "The purpose of the return statement in a function is to specify the value that the function should return when it is called.\n",
        "\n",
        "Yes, a function can have multiple return statements, but only one of them will be executed when the function is called. Here's an example:\n",
        "\n",
        "\n",
        "def max_num(num1, num2):\n",
        "\n",
        "  if num1 > num2:\n",
        "\n",
        "  return num1\n",
        "\n",
        "else:\n",
        "\n",
        "  return num2\n",
        "\n",
        "\n",
        "In this example, the function takes two arguments and returns the larger of the two. The return statement is used twice, once for each possible outcome. When the function is called, only one of the return statements will be executed, depending on the values of the arguments.\n",
        "\n",
        "\n"
      ],
      "metadata": {
        "id": "Nf6tH5UtNR8R"
      }
    },
    {
      "cell_type": "code",
      "source": [
        "def max_num(num1, num2):\n",
        "  if num1 > num2:\n",
        "    return num1\n",
        "  else:\n",
        "    return num2\n",
        "\n",
        "max = max_num(4,12)\n",
        "print(max)"
      ],
      "metadata": {
        "colab": {
          "base_uri": "https://localhost:8080/"
        },
        "id": "yGvYQ-9kN9bI",
        "outputId": "d127fec1-e27b-4b88-fd18-2c5c00b27466"
      },
      "execution_count": 12,
      "outputs": [
        {
          "output_type": "stream",
          "name": "stdout",
          "text": [
            "12\n"
          ]
        }
      ]
    },
    {
      "cell_type": "markdown",
      "source": [
        "4.\tWhat are lambda functions in Python? How are they different from regular functions? Provide an example where a lambda function can be useful.\n",
        "\n",
        "**Answeer:**\n",
        "\n",
        "Lambda functions in Python are anonymous functions that can be defined without a name. They are typically used for short, simple operations that do not require a full function definition.\n",
        "\n",
        "\n",
        "Lambda functions are different from regular functions in that they do not require a return statement, and they can only contain a single expression.\n",
        "\n",
        "e.g. There is  a lambda function that can be used to sort a list of tuples based on the second element:\n",
        "\n",
        "my_list = [(1, 2), (3, 1), (5, 4), (2, 3)]\n",
        "\n",
        "sorted_list = sorted(my_list, key=lambda x: x[1])\n",
        "\n",
        "print(sorted_list)\n",
        "\n",
        "\n",
        "In this example, the lambda function takes a tuple as its argument and returns the second element of the tuple. The sorted() function then uses this lambda function as the key to sort the list of tuples based on the second element.\n",
        "\n",
        "\n"
      ],
      "metadata": {
        "id": "vNHk6MOEOdyD"
      }
    },
    {
      "cell_type": "code",
      "source": [
        "my_list = [(1, 2), (3, 1), (5, 4), (2, 3)]\n",
        "sorted_list = sorted(my_list, key=lambda x: x[1])\n",
        "print(sorted_list)"
      ],
      "metadata": {
        "colab": {
          "base_uri": "https://localhost:8080/"
        },
        "id": "gJJmTBFgQvNh",
        "outputId": "8a1d9caf-732c-41ee-ab12-f6c1533969ad"
      },
      "execution_count": 13,
      "outputs": [
        {
          "output_type": "stream",
          "name": "stdout",
          "text": [
            "[(3, 1), (1, 2), (2, 3), (5, 4)]\n"
          ]
        }
      ]
    },
    {
      "cell_type": "markdown",
      "source": [
        "5.\tHow does the concept of \"scope\" apply to functions in Python? Explain the difference between local scope and global scope.\n",
        "\n",
        "**Answer:**\n",
        "In Python, the concept of \"scope\" refers to the visibility of variables within a program. When a variable is defined within a function, it is said to have local scope, meaning it can only be accessed within that function. On the other hand, variables defined outside of any function have global scope, meaning they can be accessed from anywhere in the program.\n",
        "\n",
        "Local variables are created when a function is called and are destroyed when the function completes. This means that they cannot be accessed outside of the function in which they were defined. Global variables, on the other hand, are created when the program starts and are available throughout the entire program.\n",
        "\n",
        "It's important to note that if a local variable has the same name as a global variable, the local variable will take precedence within the function. However, if you want to access the global variable within the function, you can use the \"global\" keyword to indicate that you want to use the global variable instead of the local one.\n",
        "\n",
        "\n"
      ],
      "metadata": {
        "id": "BAqpN-q6Q0A7"
      }
    },
    {
      "cell_type": "markdown",
      "source": [
        "6.\tHow can you use the \"return\" statement in a Python function to return multiple values?\n",
        "\n",
        "**Answer:**\n",
        "\n",
        "In Python, we can use the \"return\" statement to return multiple values by separating them with commas.\n",
        "e.g., if we have a function that calculates the area and circumference of a circle, we can use the \"return\" statement to return both values like this: \"return area, circumference\". When you call the function, you can assign the returned values to separate variables like this: \"area, circumference = calculate_circle(5)\".\n",
        "If the function does not have a \"return\" statement or if it only returns one value, you can still access multiple values by returning them as a list or tuple and then unpacking them when you call the function."
      ],
      "metadata": {
        "id": "LasrRCldRx8s"
      }
    },
    {
      "cell_type": "markdown",
      "source": [
        "7.\tWhat is the difference between the \"pass by value\" and \"pass by reference\" concepts when it comes to function arguments in Python?\n",
        "\n",
        "**Answer:**\n",
        "\n",
        "In Python, function arguments are passed by reference, which means that any changes made to the argument within the function will affect the original object outside of the function.\n",
        "\n",
        "On the other hand, Pass by value, means that a copy of the value is passed to the function, so any changes made to the argument within the function will not affect the original object outside of the function."
      ],
      "metadata": {
        "id": "lBYyb5UMS55I"
      }
    },
    {
      "cell_type": "code",
      "source": [
        "# Example of pass by value\n",
        "def pass_by_value(x):\n",
        "  x = x + 1\n",
        "  print(\"Inside function: x =\", x)\n",
        "\n",
        "y = 10\n",
        "pass_by_value(y)\n",
        "print(\"Outside function: y =\", y)\n",
        "\n"
      ],
      "metadata": {
        "colab": {
          "base_uri": "https://localhost:8080/"
        },
        "id": "E6V7Z0guUsx9",
        "outputId": "a0a10375-0be3-4333-edec-b3ac2a3cccb8"
      },
      "execution_count": 14,
      "outputs": [
        {
          "output_type": "stream",
          "name": "stdout",
          "text": [
            "Inside function: x = 11\n",
            "Outside function: y = 10\n"
          ]
        }
      ]
    },
    {
      "cell_type": "code",
      "source": [
        "# Example of pass by value\n",
        "def pass_by_reference(lst):\n",
        "  lst.append(4)\n",
        "  print(\"Inside function: lst =\", lst)\n",
        "\n",
        "my_list = [1, 2, 3]\n",
        "pass_by_reference(my_list)\n",
        "print(\"Outside function: my_list =\", my_list)\n",
        "\n"
      ],
      "metadata": {
        "colab": {
          "base_uri": "https://localhost:8080/"
        },
        "id": "HHnB2WO1U6Qs",
        "outputId": "862df4ba-84f4-4bd0-b628-5edbbd6d2e61"
      },
      "execution_count": 15,
      "outputs": [
        {
          "output_type": "stream",
          "name": "stdout",
          "text": [
            "Inside function: lst = [1, 2, 3, 4]\n",
            "Outside function: my_list = [1, 2, 3, 4]\n"
          ]
        }
      ]
    },
    {
      "cell_type": "markdown",
      "source": [
        "8.\tCreate a function that can intake integer or decimal value and do following operations:\n",
        "a.\tLogarithmic function (log x)\n",
        "b.\tExponential function (exp(x))\n",
        "c.\tPower function with base 2 (2x)\n",
        "d.\tSquare root\n",
        "\n",
        "\n",
        "**Answer:**\n",
        "\n",
        "a. Logarithmic function (log x)"
      ],
      "metadata": {
        "id": "mbFXKZaHVM1e"
      }
    },
    {
      "cell_type": "code",
      "source": [
        "# a.  Function to do - Logarithmic function (log x)\n",
        "import math\n",
        "def log_function(x):\n",
        "  return math.log10(x)\n",
        "\n",
        "result = log_function(10)\n",
        "print(result)"
      ],
      "metadata": {
        "colab": {
          "base_uri": "https://localhost:8080/"
        },
        "id": "FukFTls5VvSa",
        "outputId": "1816c2a8-4830-4f28-dfb9-3e409a375f26"
      },
      "execution_count": 21,
      "outputs": [
        {
          "output_type": "stream",
          "name": "stdout",
          "text": [
            "1.0\n"
          ]
        }
      ]
    },
    {
      "cell_type": "code",
      "source": [
        "# b. Function to do - Exponential function (exp(x))\n",
        "import math\n",
        "def exp_function(x):\n",
        "  return math.exp(x)\n",
        "\n",
        "result = exp_function(10)\n",
        "print(result)"
      ],
      "metadata": {
        "colab": {
          "base_uri": "https://localhost:8080/"
        },
        "id": "q3m1dzIsWRaS",
        "outputId": "e2597b37-9e0f-4248-eeb1-eaa88637f527"
      },
      "execution_count": 17,
      "outputs": [
        {
          "output_type": "stream",
          "name": "stdout",
          "text": [
            "22026.465794806718\n"
          ]
        }
      ]
    },
    {
      "cell_type": "code",
      "source": [
        "# c. Function to do  - c.\tPower function with base 2 (2 rest to x)\n",
        "def power_function(x):\n",
        "  return 2 ** x\n",
        "\n",
        "result = power_function(10)\n",
        "print(result)\n"
      ],
      "metadata": {
        "colab": {
          "base_uri": "https://localhost:8080/"
        },
        "id": "vZ7KKE3FWz0u",
        "outputId": "2acdb2c9-fe04-4964-e750-763a9d2733df"
      },
      "execution_count": 18,
      "outputs": [
        {
          "output_type": "stream",
          "name": "stdout",
          "text": [
            "1024\n"
          ]
        }
      ]
    },
    {
      "cell_type": "code",
      "source": [
        "# d. Function to do - Square root\n",
        "import math\n",
        "def sqrt_function(x):\n",
        "  return math.sqrt(x)\n",
        "\n",
        "result = sqrt_function(9)\n",
        "print(result)"
      ],
      "metadata": {
        "colab": {
          "base_uri": "https://localhost:8080/"
        },
        "id": "xJAT_SLqXehG",
        "outputId": "b2207e8d-0f8d-41fe-e451-69521b99e9e5"
      },
      "execution_count": 19,
      "outputs": [
        {
          "output_type": "stream",
          "name": "stdout",
          "text": [
            "3.0\n"
          ]
        }
      ]
    },
    {
      "cell_type": "markdown",
      "source": [
        "9.\tCreate a function that takes a full name as an argument and returns first name and last name.\n",
        "\n",
        "**Answer:**"
      ],
      "metadata": {
        "id": "ULbT6OvbYGjH"
      }
    },
    {
      "cell_type": "code",
      "source": [
        "# A Function that takes a full name as an argument and returns first name and last name.\n",
        "def split_name(full_name):\n",
        "  name_list = full_name.split()\n",
        "  first_name = name_list[0]\n",
        "  last_name = name_list[-1]\n",
        "  return first_name, last_name\n",
        "\n",
        "full_name = \"Narendra Modi\"\n",
        "first_name, last_name = split_name(full_name)\n",
        "print(\"First name:\", first_name)\n",
        "print(\"Last name:\", last_name)"
      ],
      "metadata": {
        "colab": {
          "base_uri": "https://localhost:8080/"
        },
        "id": "hWeciQHdYRwd",
        "outputId": "50d857b2-8f91-4b59-bbfc-d25de8dae377"
      },
      "execution_count": 20,
      "outputs": [
        {
          "output_type": "stream",
          "name": "stdout",
          "text": [
            "First name: Narendra\n",
            "Last name: Modi\n"
          ]
        }
      ]
    }
  ]
}