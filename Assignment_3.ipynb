{
  "nbformat": 4,
  "nbformat_minor": 0,
  "metadata": {
    "colab": {
      "provenance": []
    },
    "kernelspec": {
      "name": "python3",
      "display_name": "Python 3"
    },
    "language_info": {
      "name": "python"
    }
  },
  "cells": [
    {
      "cell_type": "markdown",
      "source": [
        "1. Why are functions advantageous to have in your programs?\n",
        "\n",
        "**Answer:**\n",
        "\n",
        "Advantages of functions are as follows:\n",
        "\n",
        "i.\tReduces program length\n",
        "\n",
        "ii.\tProgram becomes managable\n",
        "\n",
        "iii.\tSupports structured programming\n",
        "\n",
        "iv.\tDebugging becomes simpler/easier\n",
        "\n",
        "v.\tImproves readability of program\n"
      ],
      "metadata": {
        "id": "wY5UcTixwqkc"
      }
    },
    {
      "cell_type": "markdown",
      "source": [
        "2. When does the code in a function run: when it's specified or when it's called?\n",
        "\n",
        "**Answer:**\n",
        "\n",
        "The code in a function run when it’s called.\n"
      ],
      "metadata": {
        "id": "B_nmgGtlw9_U"
      }
    },
    {
      "cell_type": "markdown",
      "source": [
        "3. What statement creates a function?\n",
        "\n",
        "**Answer:**\n",
        "\n",
        "Function header(The keyword def) creates the function.\n",
        "\n",
        "e.g. in python\n",
        "\n",
        "def <function-name>\n",
        "\n",
        "creates a functions\n"
      ],
      "metadata": {
        "id": "-kJ7W80FxVME"
      }
    },
    {
      "cell_type": "markdown",
      "source": [
        "4. What is the difference between a function and a function call?\n",
        "\n",
        "**Answer:**\n",
        "\n",
        "A function defines/specifies the function whereas a function call executes the function.\n"
      ],
      "metadata": {
        "id": "vgrjK_ZcxfG5"
      }
    },
    {
      "cell_type": "markdown",
      "source": [
        "5. How many global scopes are there in a Python program? How many local scopes?\n",
        "\n",
        "**Answer:**\n",
        "\n",
        "There is only one global scope i.e. the global variable is live/active throughout the lifetime of program.\n",
        "\n",
        "Local variable is used in the function(s) and it is active during the lifetime of that particular function only.\n"
      ],
      "metadata": {
        "id": "GnsO6yWUxzyS"
      }
    },
    {
      "cell_type": "markdown",
      "source": [
        "6. What happens to variables in a local scope when the function call returns?\n",
        "\n",
        "**Answer:**\n",
        "\n",
        "When the function call returns, the variables in a local scope (local variables) get destroyed.\n"
      ],
      "metadata": {
        "id": "BFJUvfztx-K6"
      }
    },
    {
      "cell_type": "markdown",
      "source": [
        "7. What is the concept of a return value? Is it possible to have a return value in an expression?\n",
        "\n",
        "**Answer:**\n",
        "\n",
        "The return value returns the result from the function.\n",
        "\n",
        "Yes, it is possible to have a return value in an expression.\n"
      ],
      "metadata": {
        "id": "3Ssr_IDayIWL"
      }
    },
    {
      "cell_type": "markdown",
      "source": [
        "8. If a function does not have a return statement, what is the return value of a call to that function?\n",
        "\n",
        "**Answer:**\n",
        "\n",
        "If there is no return statement in a function, there is no return value of a call to that function. The function will perform only the specified task(s) in the function with the parameters provided if any.\n"
      ],
      "metadata": {
        "id": "tvgaJUmWyRha"
      }
    },
    {
      "cell_type": "markdown",
      "source": [
        "9. How do you make a function variable refer to the global variable?\n",
        "\n",
        "**Answer:**\n",
        "\n",
        "when you create a variable inside a function, that variable is local, and can only be used inside that function.\n",
        "\n",
        "To create a global variable inside a function, we need to use the keyword – global, before the function name.\n",
        "\n",
        "e.g.\n"
      ],
      "metadata": {
        "id": "ZOrlR6T8ycmu"
      }
    },
    {
      "cell_type": "code",
      "source": [
        "def myfunc():\n",
        "  global x\n",
        "  x = \"Indian\"\n",
        "\n",
        "myfunc()\n",
        "\n",
        "print(\"I am a/an \" + x)\n"
      ],
      "metadata": {
        "colab": {
          "base_uri": "https://localhost:8080/"
        },
        "id": "aCGCtwz1yquP",
        "outputId": "938e003e-3e1f-4364-a7ea-43914d81bbab"
      },
      "execution_count": 1,
      "outputs": [
        {
          "output_type": "stream",
          "name": "stdout",
          "text": [
            "I am a/an Indian\n"
          ]
        }
      ]
    },
    {
      "cell_type": "markdown",
      "source": [
        "10. What is the data type of None?\n",
        "\n",
        "**Answer:**\n",
        "\n",
        "None is a data type available in python. None itself is a data type, it does not have any data type.\n"
      ],
      "metadata": {
        "id": "ZBw1yhNUy0e2"
      }
    },
    {
      "cell_type": "markdown",
      "source": [
        "11. What does the sentence import areallyourpetsnamederic do?\n",
        "\n",
        "**Answer:**\n",
        "\n",
        "The import statement make code in one module available in another. This help to structure the big programs.\n"
      ],
      "metadata": {
        "id": "AzFQG93ky9sU"
      }
    },
    {
      "cell_type": "markdown",
      "source": [
        "12. If you had a bacon() feature in a spam module, what would you call it after importing spam?\n",
        "\n",
        "**Answer:**\n",
        "\n",
        "import spam\n",
        "\n",
        "spam.bacon()\n"
      ],
      "metadata": {
        "id": "1bjWWR04zGLM"
      }
    },
    {
      "cell_type": "markdown",
      "source": [
        "13. What can you do to save a programme from crashing if it encounters an error?\n",
        "\n",
        "**Answer:**\n",
        "\n",
        "If a program is crashing due to an error, we need to capture the error programmatically and address it. For this in python we can use try - except and try - except - finally. This referred as exception handling in python. Thus, we can save a program from crashing if it encounters an error by using exception handling.\n",
        "\n"
      ],
      "metadata": {
        "id": "6I4SxAKOzOym"
      }
    },
    {
      "cell_type": "markdown",
      "source": [
        "14. What is the purpose of the try clause? What is the purpose of the except clause?\n",
        "\n",
        "**Answer:**\n",
        "\n",
        "The try clause permits us to test a block of code for errors.\n",
        "\n",
        "The except clause allows us to handle the encountered error.\n",
        "\n",
        "The else statement executes the code when there is no error.\n",
        "\n",
        "The finally clause executes the code, regardless of the result of the try- and except clauses.\n"
      ],
      "metadata": {
        "id": "7jZkLFM_zgM6"
      }
    }
  ]
}