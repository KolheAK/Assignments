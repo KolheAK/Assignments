{
  "nbformat": 4,
  "nbformat_minor": 0,
  "metadata": {
    "colab": {
      "provenance": []
    },
    "kernelspec": {
      "name": "python3",
      "display_name": "Python 3"
    },
    "language_info": {
      "name": "python"
    }
  },
  "cells": [
    {
      "cell_type": "markdown",
      "source": [
        "1. What exactly is []?\n",
        "\n",
        "**Answer:**\n",
        "\n",
        "It is an empty list.\n"
      ],
      "metadata": {
        "id": "gzL_zYBdgiK3"
      }
    },
    {
      "cell_type": "markdown",
      "source": [
        "2. In a list of values stored in a variable called spam, how would you assign the value 'hello' as the third value? (Assume [2, 4, 6, 8, 10] are in spam.)\n",
        "\n",
        "**Answer:**\n"
      ],
      "metadata": {
        "id": "3p28kzT0gta6"
      }
    },
    {
      "cell_type": "code",
      "source": [
        "spam = [2,4,6,8,10]\n",
        "print(spam[3])\n",
        "spam[3] = 'hello'\n",
        "print(spam)\n"
      ],
      "metadata": {
        "colab": {
          "base_uri": "https://localhost:8080/"
        },
        "id": "nIIBvtEEg9Dp",
        "outputId": "9d98805e-f33a-4693-935e-617c895ad8e6"
      },
      "execution_count": 1,
      "outputs": [
        {
          "output_type": "stream",
          "name": "stdout",
          "text": [
            "8\n",
            "[2, 4, 6, 'hello', 10]\n"
          ]
        }
      ]
    },
    {
      "cell_type": "markdown",
      "source": [
        "Let's pretend the spam includes the list ['a', 'b', 'c', 'd'] for the next three queries.\n",
        "\n",
        "3. What is the value of spam[int(int('3' * 2) / 11)]?\n",
        "\n",
        "**Answer:**\n",
        "\n",
        "‘d’\n",
        "\n",
        "4. What is the value of spam[-1]?\n",
        "\n",
        "**Answer:**\n",
        "\n",
        "‘d’\n",
        "\n",
        "5. What is the value of spam[:2]?\n",
        "\n",
        "**Answer:**\n",
        "\n",
        "['a', 'b']\n"
      ],
      "metadata": {
        "id": "HIc8-dxHhGJ3"
      }
    },
    {
      "cell_type": "markdown",
      "source": [
        "Let's pretend bacon has the list [3.14, 'cat,' 11, 'cat,' True] for the next three questions.\n",
        "\n",
        "6. What is the value of bacon.index('cat')?\n",
        "\n",
        "**Answer:**\n",
        "\n",
        "1\n",
        "\n",
        "\n",
        "7. How does bacon.append(99) change the look of the list value in bacon?\n",
        "\n",
        "**Answer:**\n",
        "\n",
        "[3.14, 'cat', 11, 'cat', True, 99]\n",
        "\n",
        "\n",
        "8. How does bacon.remove('cat') change the look of the list in bacon?\n",
        "\n",
        "**Answer:**\n",
        "\n",
        "[3.14, 11, 'cat', True, 99]\n"
      ],
      "metadata": {
        "id": "d5ocfIdXiD-0"
      }
    },
    {
      "cell_type": "markdown",
      "source": [
        "9. What are the list concatenation and list replication operators?\n",
        "\n",
        "**Answer:**\n",
        "\n",
        "The operator for list concatenation is +, and the operator for replication is *.\n"
      ],
      "metadata": {
        "id": "zs6sQe3WiR3e"
      }
    },
    {
      "cell_type": "code",
      "source": [
        "lst1 = [1, 2, 3]\n",
        "lst2 = [4, 5, 6]\n",
        "lst3 = lst1 + lst2\n",
        "print(lst3)\n",
        "print(lst2 *3)\n"
      ],
      "metadata": {
        "colab": {
          "base_uri": "https://localhost:8080/"
        },
        "id": "Fe0RpL_Dic-w",
        "outputId": "c671268d-7962-4fb0-c5dc-e06a25a0a9b7"
      },
      "execution_count": 2,
      "outputs": [
        {
          "output_type": "stream",
          "name": "stdout",
          "text": [
            "[1, 2, 3, 4, 5, 6]\n",
            "[4, 5, 6, 4, 5, 6, 4, 5, 6]\n"
          ]
        }
      ]
    },
    {
      "cell_type": "markdown",
      "source": [
        "10. What is difference between the list methods append() and insert()?\n",
        "\n",
        "**Answer:**\n",
        "\n",
        "append() method adds an element at the end of the list whereas insert() method inserts an element at the specified location/index in the list.\n"
      ],
      "metadata": {
        "id": "PdIfWca_in9_"
      }
    },
    {
      "cell_type": "markdown",
      "source": [
        "11. What are the two methods for removing items from a list?\n",
        "\n",
        "**Answer:**\n",
        "\n",
        "remove() method is used to remove first item from a list.\n",
        "\n",
        "pop() method is used to remove item from a given index position in a list.\n"
      ],
      "metadata": {
        "id": "9K559gwoivwj"
      }
    },
    {
      "cell_type": "markdown",
      "source": [
        "12. Describe how list values and string values are identical.\n",
        "\n",
        "**Answer:**\n",
        "\n",
        "The identical feature between List values and string values is that both are sequences.\n"
      ],
      "metadata": {
        "id": "ayGxu4b1i2v9"
      }
    },
    {
      "cell_type": "markdown",
      "source": [
        "13. What's the difference between tuples and lists?\n",
        "\n",
        "**Answer:**\n",
        "\n",
        "Tuple\tList\n",
        "Tuple is defined with round brackets(()) whereas\tList is defined with square brackets [].\n",
        "\n",
        "Tuples are immutable; Lists are mutable\n",
        "\n"
      ],
      "metadata": {
        "id": "Suq3lllrjARQ"
      }
    },
    {
      "cell_type": "markdown",
      "source": [
        "14. How do you type a tuple value that only contains the integer 42?\n",
        "\n",
        "**Answer:**\n",
        "\n",
        "(42,)\n"
      ],
      "metadata": {
        "id": "t_Lgt1TxjSOQ"
      }
    },
    {
      "cell_type": "markdown",
      "source": [
        "15. How do you get a list value's tuple form? How do you get a tuple value's list form?\n",
        "\n",
        "**Answer:**\n",
        "\n",
        "We can achieve the targets using casing of data types – tuple() and list() respectively.\n",
        "\n"
      ],
      "metadata": {
        "id": "HilPmpyRjgxX"
      }
    },
    {
      "cell_type": "markdown",
      "source": [
        "16. Variables that \"contain\" list values are not necessarily lists themselves. Instead, what do they contain?\n",
        "\n",
        "**Answer:**\n",
        "\n",
        "Variables contains references to the list values.\n"
      ],
      "metadata": {
        "id": "yNs4vAlujqF6"
      }
    },
    {
      "cell_type": "markdown",
      "source": [
        "17. How do you distinguish between copy.copy() and copy.deepcopy()?\n",
        "\n",
        "**Answer:**\n",
        "\n",
        "copy() create reference to original object. If you make changes to the copied (new) object, it will make changes to the original object also.\n",
        "\n",
        "Deepcopy() generates a new object and performs a true copy of the original object onto the new object. New deepcopied object changes have no impact on the original object.\n"
      ],
      "metadata": {
        "id": "3_2S6oUwjxof"
      }
    }
  ]
}