{
  "nbformat": 4,
  "nbformat_minor": 0,
  "metadata": {
    "colab": {
      "provenance": []
    },
    "kernelspec": {
      "name": "python3",
      "display_name": "Python 3"
    },
    "language_info": {
      "name": "python"
    }
  },
  "cells": [
    {
      "cell_type": "markdown",
      "source": [
        "1. In the below elements which of them are values or an expression? eg:- values can be integer or string and expressions will be mathematical operators.\n",
        "**Answer**\n",
        "*   - Expression\n",
        "\n",
        "'hello' - Value\n",
        "\n",
        "\n",
        "-87.8 - Value\n",
        "\n",
        "-  - Expression\n",
        "\n",
        "/  - Expression\n",
        "\n",
        "+\t - Expression\n",
        "\n",
        "6  - Value\n"
      ],
      "metadata": {
        "id": "C8tBTZi7lpAJ"
      }
    },
    {
      "cell_type": "markdown",
      "source": [
        "2. What is the difference between string and variable?\n",
        "\n",
        "**Answer:**\n",
        "\n",
        "1\tString is a data type\twhereas Variable is not a data type.\n",
        "\n",
        "2\te.g. “I am an Indian”is a string and \te.g. a = 2 is a variable.\n",
        "\n",
        "3\tString can have fixed or different values during its lifetime.\tSame Variable can take different values during the life time of it.\n",
        "\n"
      ],
      "metadata": {
        "id": "uA-edyeDk4Xe"
      }
    },
    {
      "cell_type": "markdown",
      "source": [
        "3. Describe three different data types.\n",
        "**Answer:**\n",
        "\n",
        "Different data types are :\n",
        "\n",
        "i.\tInteger : It is a whole number e.g. 30\n",
        "\n",
        "ii.\tFloat : It is real number e.g. 3.14\n",
        "\n",
        "iii.\tString : It is a collection of characters enclosed in single or double quotes e.g. “ I am an Indian”\n"
      ],
      "metadata": {
        "id": "XeTXT3wOmRVe"
      }
    },
    {
      "cell_type": "markdown",
      "source": [
        "4. What is an expression made up of? What do all expressions do?\n",
        "**Answer:**\n",
        "\n",
        "An expression is made up of operands and operator.\n",
        "\n",
        "All expressions result into a value.\n",
        "e.g. X = X + 10 is an expression and if we know the value of X, it will result into an value.\n"
      ],
      "metadata": {
        "id": "rTUdNKczmnnZ"
      }
    },
    {
      "cell_type": "markdown",
      "source": [
        "5. This assignment statements, like spam = 10. What is the difference between an expression and a statement?\n",
        "**Answer:**\n",
        "An expression result into a value whereas a statement does not result into a value.\n"
      ],
      "metadata": {
        "id": "gHSobzrPmrD3"
      }
    },
    {
      "cell_type": "markdown",
      "source": [
        "6. After running the following code, what does the variable bacon contain?"
      ],
      "metadata": {
        "id": "7lP1RAMUnDjh"
      }
    },
    {
      "cell_type": "code",
      "source": [
        "bacon = 22\n",
        "bacon + 1\n"
      ],
      "metadata": {
        "colab": {
          "base_uri": "https://localhost:8080/"
        },
        "id": "lB6AoiX-nAxN",
        "outputId": "456641ee-d5c1-4544-889f-545063e02820"
      },
      "execution_count": 2,
      "outputs": [
        {
          "output_type": "execute_result",
          "data": {
            "text/plain": [
              "23"
            ]
          },
          "metadata": {},
          "execution_count": 2
        }
      ]
    },
    {
      "cell_type": "markdown",
      "source": [
        "7. What should the values of the following two terms be?"
      ],
      "metadata": {
        "id": "k7WXPC7VnR-F"
      }
    },
    {
      "cell_type": "code",
      "source": [
        "'spam' + 'spamspam'\n"
      ],
      "metadata": {
        "colab": {
          "base_uri": "https://localhost:8080/",
          "height": 35
        },
        "id": "a7unz69snTD-",
        "outputId": "2ea60a1b-a2e8-4595-ac18-bc341b114f85"
      },
      "execution_count": 4,
      "outputs": [
        {
          "output_type": "execute_result",
          "data": {
            "text/plain": [
              "'spamspamspam'"
            ],
            "application/vnd.google.colaboratory.intrinsic+json": {
              "type": "string"
            }
          },
          "metadata": {},
          "execution_count": 4
        }
      ]
    },
    {
      "cell_type": "code",
      "source": [
        "'spam' * 3\n"
      ],
      "metadata": {
        "colab": {
          "base_uri": "https://localhost:8080/",
          "height": 35
        },
        "id": "XL1b3b7VneqG",
        "outputId": "98b10982-448d-4187-fd2e-7ed97e0e1563"
      },
      "execution_count": 5,
      "outputs": [
        {
          "output_type": "execute_result",
          "data": {
            "text/plain": [
              "'spamspamspam'"
            ],
            "application/vnd.google.colaboratory.intrinsic+json": {
              "type": "string"
            }
          },
          "metadata": {},
          "execution_count": 5
        }
      ]
    },
    {
      "cell_type": "markdown",
      "source": [
        "8. Why is eggs a valid variable name while 100 is invalid?\n",
        "**Answer:**\n",
        "\n",
        "eggs is a valid variable name as it begins with a char and does not contain any special char.\n",
        "\n",
        "100 is invalid variable name as it begins with a number.\n"
      ],
      "metadata": {
        "id": "Rf5U68PbnjH0"
      }
    },
    {
      "cell_type": "markdown",
      "source": [
        "9. What three functions can be used to get the integer, floating-point number, or string version of a value?\n",
        "\n",
        "**Answer:**\n",
        "\n",
        "int()\n",
        "\n",
        "float()\n",
        "\n",
        "str()\n"
      ],
      "metadata": {
        "id": "FULpJVXUnq9t"
      }
    },
    {
      "cell_type": "markdown",
      "source": [
        "10. Why does this expression cause an error? How can you fix it?\n",
        "'I have eaten ' + 99 + ' burritos.'\n",
        "\n",
        "Answer:\n",
        "\n",
        "Integer cannot be concatenate with strings.\n",
        "\n",
        "We need to give the formatting instructions to remove the error or the integer (99) must be converted to string.\n"
      ],
      "metadata": {
        "id": "2gffrj3joJKj"
      }
    }
  ]
}