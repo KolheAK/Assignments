{
  "nbformat": 4,
  "nbformat_minor": 0,
  "metadata": {
    "colab": {
      "provenance": []
    },
    "kernelspec": {
      "name": "python3",
      "display_name": "Python 3"
    },
    "language_info": {
      "name": "python"
    }
  },
  "cells": [
    {
      "cell_type": "markdown",
      "source": [
        "1.What are the two values of the Boolean data type? How do you write them?\n",
        "\n",
        "**Answer:**\n",
        "\n",
        "There are two values of Boolean data types namely true and false. They are written as True and False respectively.\n"
      ],
      "metadata": {
        "id": "aI_3LjQ9q0nl"
      }
    },
    {
      "cell_type": "markdown",
      "source": [
        "2. What are the three different types of Boolean operators?\n",
        "\n",
        "**Answer:**\n",
        "\n",
        "Three different types of Boolean operators are –\n",
        "\n",
        "i.\tor\n",
        "\n",
        "ii.\tand\n",
        "\n",
        "iii.\tnot\n"
      ],
      "metadata": {
        "id": "JqafElsjq45k"
      }
    },
    {
      "cell_type": "markdown",
      "source": [
        "3. Make a list of each Boolean operator's truth tables (i.e. every possible combination of Boolean values for the operator and what it evaluate ).\n",
        "\n",
        "**Answer:**\n",
        "\n",
        "Truth Table of or Boolean operator\n",
        "\n",
        "Operand1\tOperand2\tResult\n",
        "\n",
        "False\t    True\t      True\n",
        "\n",
        "True\t    False\t      True\n",
        "\n",
        "True\t    True\t      True\n",
        "\n",
        "False\t    False\t      False\n",
        "\n",
        "\n",
        "Truth Table of and Boolean operator\n",
        "\n",
        "Operand1\tOperand2\tResult\n",
        "\n",
        "False\t    True\t      False\n",
        "\n",
        "True\t    False\t      False\n",
        "\n",
        "True\t    True\t      True\n",
        "\n",
        "False\t    False\t      False\n",
        "\n",
        "Truth Table of not Boolean operator\n",
        "\n",
        "Operand 1\tResult\n",
        "\n",
        "True\t    False\n",
        "\n",
        "False\t    True\n"
      ],
      "metadata": {
        "id": "N-izeYjXrE1d"
      }
    },
    {
      "cell_type": "markdown",
      "source": [
        "4. What are the values of the following expressions?\n",
        "\n",
        "**Answer:**\n",
        "\n",
        "(5 > 4) and (3 == 5) - False\n",
        "\n",
        "not (5 > 4) - False\n",
        "\n",
        "(5 > 4) or (3 == 5) - True\n",
        "\n",
        "not ((5 > 4) or (3 == 5)) - False\n",
        "\n",
        "(True and True) and (True == False) - False\n",
        "\n",
        "(not False) or (not True) - True\n"
      ],
      "metadata": {
        "id": "3GqxFn7NsifG"
      }
    },
    {
      "cell_type": "markdown",
      "source": [
        "5. What are the six comparison operators?\n",
        "\n",
        "**Answer:**\n",
        "\n",
        "Six comparison operators are as follows:\n",
        "\n",
        "i.\t> Greater Than\n",
        "\n",
        "ii.\t< Less Than\n",
        "\n",
        "iii.\t>= Greater Than or equal to\n",
        "\n",
        "iv.\t<= Less Than or equal to\n",
        "\n",
        "v.\t== Equal\n",
        "\n",
        "vi.\t!= Not equal\n"
      ],
      "metadata": {
        "id": "5vWTZ2mHs84y"
      }
    },
    {
      "cell_type": "markdown",
      "source": [
        "6. How do you tell the difference between the equal to and assignment operators?Describe a condition and when you would use one.\n",
        "**Answer:**\n",
        "\n",
        "Equal to operator is is used for comparison of two identifiers/variables where as assignment operator is used to assign a value to a variable/identifier.\n",
        "\n",
        "e.g.\n",
        "\n",
        "if a==b   ## Use of Equal to operator\n",
        "\n",
        "a=5  ## use of assignment operator\n"
      ],
      "metadata": {
        "id": "H-sEccd4tNr7"
      }
    },
    {
      "cell_type": "markdown",
      "source": [
        "7. Identify the three blocks in this code:\n",
        "\n",
        "spam = 0\n",
        "\n",
        "if spam == 10:\n",
        "\n",
        "print('eggs')\n",
        "\n",
        "if spam > 5:\n",
        "\n",
        "print('bacon')\n",
        "\n",
        "else:\n",
        "\n",
        "print('ham')\n",
        "\n",
        "print('spam')\n",
        "\n",
        "print('spam')\n",
        "\n",
        "\n",
        "**Answer:**\n",
        "\n",
        "The three blocks in the code are –\n",
        "\n",
        "i.\tTrue part of first if statement (if spam == 10)\n",
        "\n",
        "ii.\tTrue part of second if statement (if spam > 5)\n",
        "\n",
        "iii.\tElse part of if statement\n"
      ],
      "metadata": {
        "id": "MD5hu2IItbDg"
      }
    },
    {
      "cell_type": "markdown",
      "source": [
        "8. Write code that prints Hello if 1 is stored in spam, prints Howdy if 2 is stored in spam, and prints Greetings! if anything else is stored in spam."
      ],
      "metadata": {
        "id": "kY_2emfqtp20"
      }
    },
    {
      "cell_type": "code",
      "source": [
        "spam = 10\n",
        "if spam == 1:\n",
        "  print(\"Hello\")\n",
        "elif spam == 2:\n",
        "  print(\"Howdy\")\n",
        "else:\n",
        "  print(\"Greetings!\")\n"
      ],
      "metadata": {
        "colab": {
          "base_uri": "https://localhost:8080/"
        },
        "id": "kKcJ6B-zt_O1",
        "outputId": "ee85d9f6-1585-4fb7-81ac-5f15878aade3"
      },
      "execution_count": 1,
      "outputs": [
        {
          "output_type": "stream",
          "name": "stdout",
          "text": [
            "Greetings!\n"
          ]
        }
      ]
    },
    {
      "cell_type": "markdown",
      "source": [
        "9.If your programme is stuck in an endless loop, what keys you’ll press?\n",
        "\n",
        "**Answer:**\n",
        "\n",
        "Ctrl + C\n"
      ],
      "metadata": {
        "id": "FIGsXsIFuKZJ"
      }
    },
    {
      "cell_type": "markdown",
      "source": [
        "10. How can you tell the difference between break and continue?\n",
        "\n",
        "**Answer:**\n",
        "\n",
        "Break statement exits the loop and execution starts from next statement.\n",
        "\n",
        "Continue statement skips the current iteration and continues with next iteration in the loop.\n"
      ],
      "metadata": {
        "id": "YYgbSdhsuT-G"
      }
    },
    {
      "cell_type": "markdown",
      "source": [
        "11. In a for loop, what is the difference between range(10), range(0, 10), and range(0, 10, 1)?\n",
        "\n",
        "**Answer:**\n",
        "\n",
        "No difference.\n"
      ],
      "metadata": {
        "id": "Q9g1dkszui9a"
      }
    },
    {
      "cell_type": "code",
      "source": [
        "range(10)"
      ],
      "metadata": {
        "colab": {
          "base_uri": "https://localhost:8080/"
        },
        "id": "Vrd6Hn4PusT5",
        "outputId": "58907319-83cd-4bf8-c589-c9eaaeff8940"
      },
      "execution_count": 6,
      "outputs": [
        {
          "output_type": "execute_result",
          "data": {
            "text/plain": [
              "range(0, 10)"
            ]
          },
          "metadata": {},
          "execution_count": 6
        }
      ]
    },
    {
      "cell_type": "code",
      "source": [
        "range(0, 10)"
      ],
      "metadata": {
        "colab": {
          "base_uri": "https://localhost:8080/"
        },
        "id": "tgQsi6AMu5Lo",
        "outputId": "0db57f13-996d-4aea-e003-9eac6bd526e3"
      },
      "execution_count": 7,
      "outputs": [
        {
          "output_type": "execute_result",
          "data": {
            "text/plain": [
              "range(0, 10)"
            ]
          },
          "metadata": {},
          "execution_count": 7
        }
      ]
    },
    {
      "cell_type": "code",
      "source": [
        "range(0, 10, 1)"
      ],
      "metadata": {
        "colab": {
          "base_uri": "https://localhost:8080/"
        },
        "id": "VqwXJJqtu9pQ",
        "outputId": "4448b587-3682-4654-e9d5-4bd3f4aaba0f"
      },
      "execution_count": 8,
      "outputs": [
        {
          "output_type": "execute_result",
          "data": {
            "text/plain": [
              "range(0, 10)"
            ]
          },
          "metadata": {},
          "execution_count": 8
        }
      ]
    },
    {
      "cell_type": "markdown",
      "source": [
        "12. Write a short program that prints the numbers 1 to 10 using a for loop. Then write an equivalent program that prints the numbers 1 to 10 using a while loop.\n",
        "\n",
        "**Answer:**\n"
      ],
      "metadata": {
        "id": "B-RJnaQIvBah"
      }
    },
    {
      "cell_type": "code",
      "source": [
        "#Solution to print 1 to 10 using a for loop\n",
        "for i in range(1,11,1):\n",
        "  print(i)\n"
      ],
      "metadata": {
        "colab": {
          "base_uri": "https://localhost:8080/"
        },
        "id": "2E2ThmhRvJn5",
        "outputId": "e2f98dcf-e0fe-414d-b62a-06bbb21cf2d9"
      },
      "execution_count": 9,
      "outputs": [
        {
          "output_type": "stream",
          "name": "stdout",
          "text": [
            "1\n",
            "2\n",
            "3\n",
            "4\n",
            "5\n",
            "6\n",
            "7\n",
            "8\n",
            "9\n",
            "10\n"
          ]
        }
      ]
    },
    {
      "cell_type": "code",
      "source": [
        "#Solution to print 1 to 10 using a while loop\n",
        "i=1\n",
        "while(i<=10):\n",
        "  print(i)\n",
        "  i = i+1\n"
      ],
      "metadata": {
        "colab": {
          "base_uri": "https://localhost:8080/"
        },
        "id": "6qsiNvWfvRLt",
        "outputId": "e29d2f7c-ae73-4db3-e7a1-a5a742db8d66"
      },
      "execution_count": 10,
      "outputs": [
        {
          "output_type": "stream",
          "name": "stdout",
          "text": [
            "1\n",
            "2\n",
            "3\n",
            "4\n",
            "5\n",
            "6\n",
            "7\n",
            "8\n",
            "9\n",
            "10\n"
          ]
        }
      ]
    },
    {
      "cell_type": "markdown",
      "source": [
        "13. If you had a function named bacon() inside a module named spam, how would you call it after importing spam?\n",
        "\n",
        "**Answer:**\n",
        "\n",
        "import spam\n",
        "\n",
        "spam.bacon()\n",
        "\n"
      ],
      "metadata": {
        "id": "YmLGGJXSvWh5"
      }
    }
  ]
}