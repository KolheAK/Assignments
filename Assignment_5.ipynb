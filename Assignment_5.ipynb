{
  "nbformat": 4,
  "nbformat_minor": 0,
  "metadata": {
    "colab": {
      "provenance": []
    },
    "kernelspec": {
      "name": "python3",
      "display_name": "Python 3"
    },
    "language_info": {
      "name": "python"
    }
  },
  "cells": [
    {
      "cell_type": "markdown",
      "source": [
        "1. What does an empty dictionary's code look like?\n",
        "\n",
        "**Answer:**\n",
        "\n",
        "dict1 = {}\n"
      ],
      "metadata": {
        "id": "05pbHGZYk9WN"
      }
    },
    {
      "cell_type": "markdown",
      "source": [
        "2. What is the value of a dictionary value with the key 'foo' and the value 42?\n",
        "\n",
        "**Answer:**\n",
        "\n",
        "42\n"
      ],
      "metadata": {
        "id": "wf16KSpGlMH5"
      }
    },
    {
      "cell_type": "markdown",
      "source": [
        "3. What is the most significant distinction between a dictionary and a list?\n",
        "\n",
        "**Answer:**\n",
        "\n",
        "A list is an ordered collection of items defined using [] whereas dictionary is a defined using {} with key:value pair.\n",
        "\n",
        "e.g.\n",
        "\n",
        "list1 = [1, 2, 3, 4]\n",
        "\n",
        "dict1 = {“One”:1, “Two”:2, “Three”:3}\n"
      ],
      "metadata": {
        "id": "yAqReT8glSYA"
      }
    },
    {
      "cell_type": "markdown",
      "source": [
        "4. What happens if you try to access spam['foo'] if spam is {'bar': 100}?\n",
        "\n",
        "**Answer:**\n",
        "\n",
        "Key error is generated.\n"
      ],
      "metadata": {
        "id": "kjEde7sHlkCe"
      }
    },
    {
      "cell_type": "markdown",
      "source": [
        "5. If a dictionary is stored in spam, what is the difference between the expressions 'cat' in spam and 'cat' in spam.keys()?\n",
        "\n",
        "**Answer:**\n",
        "\n",
        "The expression ‘cat’ in spam is a key value of type string(str) whereas ‘cat’ in spam.keys() is of type dict_keys.\n"
      ],
      "metadata": {
        "id": "1ej1ar36lr6_"
      }
    },
    {
      "cell_type": "markdown",
      "source": [
        "6. If a dictionary is stored in spam, what is the difference between the expressions 'cat' in spam and 'cat' in spam.values()?\n",
        "\n",
        "**Answer:**\n",
        "\n",
        "The expression ‘cat’ in spam is a value of type str(string) whereas 'cat' in spam.values() is of type dict_values.\n",
        "\n",
        "'cat' in spam checks whether there is a 'cat' key in the dictionary, while 'cat' in spam.values() checks whether there is a value 'cat' for one of the keys in spam.\n"
      ],
      "metadata": {
        "id": "5acJj4Yyl0zV"
      }
    },
    {
      "cell_type": "markdown",
      "source": [
        "7. What is a shortcut for the following code?\n",
        "\n",
        "if 'color' not in spam:\n",
        "  spam['color'] = 'black'\n",
        "\n",
        "**Answer:**\n",
        "\n",
        "spam.setdefault('color', 'black')\n"
      ],
      "metadata": {
        "id": "SPEfoSZ2mArY"
      }
    },
    {
      "cell_type": "markdown",
      "source": [
        "8. How do you \"pretty print\" dictionary values using which module and function?\n",
        "\n",
        "**Answer:**\n",
        "\n",
        "If we import the pprint module into our programs, we’ll have access to the pprint() and pformat functions that will “pretty print” a dictionary’s values.\n"
      ],
      "metadata": {
        "id": "OHe_a6YdmNve"
      }
    }
  ]
}