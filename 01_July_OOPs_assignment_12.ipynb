{
  "nbformat": 4,
  "nbformat_minor": 0,
  "metadata": {
    "colab": {
      "provenance": []
    },
    "kernelspec": {
      "name": "python3",
      "display_name": "Python 3"
    },
    "language_info": {
      "name": "python"
    }
  },
  "cells": [
    {
      "cell_type": "code",
      "execution_count": null,
      "metadata": {
        "id": "N9ov68SaGJ1W"
      },
      "outputs": [],
      "source": []
    },
    {
      "cell_type": "markdown",
      "source": [
        "1. What is the primary goal of Object-Oriented Programming (OOP)?\n",
        "\n",
        "**Answer:**\n",
        "\n",
        "The primary goal of object-oriented Programming is reusability.\n",
        "\n",
        "Goals of object-oriented programming language :\n",
        "\n",
        "Adaptability - means the software may run on different generations and grows over a long lifetime.\n",
        "\n",
        "To reuse the code in which child classes uses the properties of the base class.\n",
        "To hold entire data into a single object such that it would be easy to pass this to other methods and objects.\n",
        "\n",
        "Multiprocessing is also in object-oriented programming.\n",
        "\n",
        "Binding of data to avoid data loss.\n",
        "\n",
        "Robustness - it means complex programs should operate correctly."
      ],
      "metadata": {
        "id": "wO2x-wHwGRzF"
      }
    },
    {
      "cell_type": "markdown",
      "source": [
        "2. What is an object in Python?\n",
        "\n",
        "**Answer:**\n",
        "\n",
        "In Python, Objects are instances of classes, which act as blueprints or templates for creating objects. Each object has its own state (data or attributes) and behavior (methods). An object is a fundamental concept that represents a particular instance of a class. It is a specific entity that has its own unique identity, attributes, and behavior.\n",
        "\n",
        "For example, if we define a class called \"Car\" with attributes like color, model, and speed, we can create multiple objects of the Car class. Each object will have its own values for color, model, and speed. We can also perform operations or call methods specific to each object, such as accelerating, braking, or changing the color.\n",
        "\n"
      ],
      "metadata": {
        "id": "u0sm_CriL-aC"
      }
    },
    {
      "cell_type": "markdown",
      "source": [
        "3. What is a class in Python?\n",
        "\n",
        "**Answer:**\n",
        "\n",
        "In Python, a class is a blueprint or a template that defines the structure and behavior of objects. It acts as a blueprint for creating multiple objects with similar properties and functionalities. A class encapsulates data (attributes) and functions (methods) that operate on that data.\n",
        "\n",
        "For example, if we consider a class called \"Car,\" it could have attributes such as color, model, and speed, and methods like accelerate, brake, and change_color. The class defines the common characteristics and behaviors of a car.\n",
        "\n"
      ],
      "metadata": {
        "id": "4b0s2s8yM2TC"
      }
    },
    {
      "cell_type": "markdown",
      "source": [
        "4. What are attributes and methods in a class?\n",
        "\n",
        "**Answer:**\n",
        "\n",
        "In a class, attributes and methods are two key components that define the behavior and characteristics of objects created from that class.\n",
        "\n",
        "Attributes:\n",
        "Attributes represent the data or properties associated with an object. They define the state of an object and can store information such as variables, constants, or other objects. Attributes are defined within a class and are accessed through instances of that class. They can be assigned values specific to each object instance or shared among all instances of the class.\n",
        "\n",
        "For example, in a class representing a \"Car,\" attributes could include \"color,\" \"model,\" and \"speed.\" Each instance of the Car class can have its own unique values for these attributes.\n",
        "\n",
        "Methods:\n",
        "Methods, also known as member functions, are functions defined within a class that define the behavior of objects. They encapsulate operations or actions that an object can perform. Methods can access and manipulate the attributes of an object and can also interact with other objects or perform specific computations.\n",
        "\n",
        "For example, in a Car class, methods could include \"accelerate,\" \"brake,\" and \"change_color.\" These methods would define the actions that a car object can perform, such as increasing or decreasing speed, or changing the color of the car."
      ],
      "metadata": {
        "id": "HGLXi0n9TvgM"
      }
    },
    {
      "cell_type": "markdown",
      "source": [
        "5. What is the difference between class variables and instance variables in Python?\n",
        "\n",
        "**Answer:**\n",
        "\n",
        "In Python, class variables and instance variables are two types of variables that are used in classes but have different scopes and behaviors.\n",
        "\n",
        "Class Variables:\n",
        "Class variables are variables that are defined within a class but outside of any methods. They are shared among all instances of the class. Class variables are declared at the class level and are the same for all objects created from that class. They are associated with the class itself rather than specific instances.\n",
        "\n",
        "The value of a class variable remains consistent across all instances, unless it is explicitly modified. Class variables are typically used to store data that is common to all objects of the class.\n",
        "\n",
        "Instance Variables:\n",
        "Instance variables are variables that are unique to each instance or object created from a class. They are defined within a class's methods and are prefixed with the self keyword to associate them with a specific instance.\n",
        "\n",
        "Each instance of a class has its own set of instance variables, which can have different values for each object. Instance variables store data specific to each object and can have different values depending on the state or behavior of the individual objects.\n",
        "\n",
        "Instance variables are used to store and maintain the state or characteristics of individual objects. They encapsulate the unique data that distinguishes one object from another."
      ],
      "metadata": {
        "id": "L1uPND3uUtmi"
      }
    },
    {
      "cell_type": "markdown",
      "source": [
        "6. What is the purpose of the self parameter in Python class methods?\n",
        "\n",
        "**Answer:**\n",
        "\n",
        "In Python, the self parameter in class methods refers to the instance of the class itself. It is a convention to use the name self, although any other valid identifier can be used.\n",
        "\n",
        "The primary purpose of the self parameter is to allow access to the attributes and methods of the class within its own methods. When a method is called on an instance of a class, the instance is automatically passed as the first argument to the method, which is represented by the self parameter.\n",
        "\n",
        "By using self, you can access and modify the instance variables (attributes) of the class, as well as call other methods associated with the class. It enables the methods to work with the specific instance that invoked them, allowing them to manipulate the instance's state and perform actions specific to that instance.\n",
        "\n",
        "Using self as the first parameter in class methods helps maintain the integrity and encapsulation of the class by explicitly referring to the instance on which the method is being called. It allows for the distinction between instance-level variables and methods and class-level variables and methods."
      ],
      "metadata": {
        "id": "5Gxjv5jpWLlw"
      }
    },
    {
      "cell_type": "markdown",
      "source": [
        "7. For a library management system, you have to design the \"Book\" class with OOP\n",
        "principles in mind. The “Book” class will have following attributes:\n",
        "\n",
        "\n",
        "a. title: Represents the title of the book.\n",
        "\n",
        "b. author: Represents the author(s) of the book.\n",
        "\n",
        "c. isbn: Represents the ISBN (International Standard Book Number) of the book.\n",
        "\n",
        "d. publication_year: Represents the year of publication of the book.\n",
        "\n",
        "e. available_copies: Represents the number of copies available for checkout.\n",
        "\n",
        "The class will also include the following methods:\n",
        "\n",
        "a. check_out(self): Decrements the available copies by one if there are copies\n",
        "available for checkout.\n",
        "\n",
        "b. return_book(self): Increments the available copies by one when a book is\n",
        "returned.\n",
        "\n",
        "c. display_book_info(self): Displays the information about the book, including its attributes and the number of available copies.\n",
        "\n",
        "**Answer:**"
      ],
      "metadata": {
        "id": "fHmbbKmjXyFm"
      }
    },
    {
      "cell_type": "code",
      "source": [
        "\n",
        "class Book:\n",
        "    def __init__(self, title, author, isbn, publication_year, available_copies):\n",
        "        self.title = title\n",
        "        self.author = author\n",
        "        self.isbn = isbn\n",
        "        self.publication_year = publication_year\n",
        "        self.available_copies = available_copies\n",
        "\n",
        "    def check_out(self):\n",
        "        if self.available_copies > 0:\n",
        "            self.available_copies -= 1\n",
        "            print(\"Book checked out successfully.\")\n",
        "        else:\n",
        "            print(\"Sorry, no copies of this book are currently available for checkout.\")\n",
        "\n",
        "    def return_book(self):\n",
        "        self.available_copies += 1\n",
        "        print(\"Book returned successfully.\")\n",
        "\n",
        "    def display_book_info(self):\n",
        "        print(\"Title:\", self.title)\n",
        "        print(\"Author(s):\", self.author)\n",
        "        print(\"ISBN:\", self.isbn)\n",
        "        print(\"Publication Year:\", self.publication_year)\n",
        "        print(\"Available Copies:\", self.available_copies)\n"
      ],
      "metadata": {
        "id": "7XQ36H73YQSI"
      },
      "execution_count": 1,
      "outputs": []
    },
    {
      "cell_type": "code",
      "source": [
        "# Creating a Book object\n",
        "book1 = Book(\"Artificial Intelligence\", \"Abhay Kolhe\", \"9780743273565\", 2022, 10)\n",
        "\n",
        "# Displaying updated book information\n",
        "book1.display_book_info()\n",
        "\n",
        "# Checking out a book\n",
        "book1.check_out()\n",
        "\n",
        "# Displaying book information\n",
        "book1.display_book_info()\n",
        "\n",
        "# Returning the book\n",
        "book1.return_book()\n",
        "\n",
        "# Displaying updated book information\n",
        "book1.display_book_info()\n"
      ],
      "metadata": {
        "colab": {
          "base_uri": "https://localhost:8080/"
        },
        "id": "MLr8t_iWY3sF",
        "outputId": "13fbf02a-679b-497c-dd64-c1ce6dd3457c"
      },
      "execution_count": 3,
      "outputs": [
        {
          "output_type": "stream",
          "name": "stdout",
          "text": [
            "Title: Artificial Intelligence\n",
            "Author(s): Abhay Kolhe\n",
            "ISBN: 9780743273565\n",
            "Publication Year: 2022\n",
            "Available Copies: 10\n",
            "Book checked out successfully.\n",
            "Title: Artificial Intelligence\n",
            "Author(s): Abhay Kolhe\n",
            "ISBN: 9780743273565\n",
            "Publication Year: 2022\n",
            "Available Copies: 9\n",
            "Book returned successfully.\n",
            "Title: Artificial Intelligence\n",
            "Author(s): Abhay Kolhe\n",
            "ISBN: 9780743273565\n",
            "Publication Year: 2022\n",
            "Available Copies: 10\n"
          ]
        }
      ]
    },
    {
      "cell_type": "markdown",
      "source": [
        "8. For a ticket booking system, you have to design the \"Ticket\" class with OOP\n",
        "principles in mind. The “Ticket” class should have the following attributes:\n",
        "\n",
        "a. ticket_id: Represents the unique identifier for the ticket.\n",
        "\n",
        "b. event_name: Represents the name of the event.\n",
        "\n",
        "c. event_date: Represents the date of the event.\n",
        "\n",
        "d. venue: Represents the venue of the event.\n",
        "\n",
        "e. seat_number: Represents the seat number associated with the ticket.\n",
        "\n",
        "f. price: Represents the price of the ticket.\n",
        "\n",
        "g. is_reserved: Represents the reservation status of the ticket.\n",
        "\n",
        "The class also includes the following methods:\n",
        "\n",
        "a. reserve_ticket(self): Marks the ticket as reserved if it is not already reserved.\n",
        "\n",
        "b. cancel_reservation(self): Cancels the reservation of the ticket if it is already reserved.\n",
        "\n",
        "c. display_ticket_info(self): Displays the information about the ticket, including its attributes and reservation status.\n",
        "\n",
        "**Answer:**"
      ],
      "metadata": {
        "id": "D_f-xAZWZVPY"
      }
    },
    {
      "cell_type": "code",
      "source": [
        "class Ticket:\n",
        "    def __init__(self, ticket_id, event_name, event_date, venue, seat_number, price):\n",
        "        self.ticket_id = ticket_id\n",
        "        self.event_name = event_name\n",
        "        self.event_date = event_date\n",
        "        self.venue = venue\n",
        "        self.seat_number = seat_number\n",
        "        self.price = price\n",
        "        self.is_reserved = False\n",
        "\n",
        "    def reserve_ticket(self):\n",
        "        if not self.is_reserved:\n",
        "            self.is_reserved = True\n",
        "            print(\"Ticket reserved successfully.\")\n",
        "        else:\n",
        "            print(\"Ticket is already reserved.\")\n",
        "\n",
        "    def cancel_reservation(self):\n",
        "        if self.is_reserved:\n",
        "            self.is_reserved = False\n",
        "            print(\"Reservation canceled successfully.\")\n",
        "        else:\n",
        "            print(\"Ticket is not currently reserved.\")\n",
        "\n",
        "    def display_ticket_info(self):\n",
        "        print(\"Ticket ID:\", self.ticket_id)\n",
        "        print(\"Event Name:\", self.event_name)\n",
        "        print(\"Event Date:\", self.event_date)\n",
        "        print(\"Venue:\", self.venue)\n",
        "        print(\"Seat Number:\", self.seat_number)\n",
        "        print(\"Price:\", self.price)\n",
        "        print(\"Reservation Status:\", \"Reserved\" if self.is_reserved else \"Not Reserved\")\n"
      ],
      "metadata": {
        "id": "w9xNm8jiZxI8"
      },
      "execution_count": 4,
      "outputs": []
    },
    {
      "cell_type": "code",
      "source": [
        "# Creating a Ticket object\n",
        "ticket1 = Ticket(1, \"Concert\", \"2023-07-10\", \"Music Hall\", \"A1\", 50)\n",
        "\n",
        "# Reserving a ticket\n",
        "ticket1.reserve_ticket()\n",
        "\n",
        "# Displaying ticket information\n",
        "ticket1.display_ticket_info()\n",
        "\n",
        "# Canceling the reservation\n",
        "ticket1.cancel_reservation()\n",
        "\n",
        "# Displaying updated ticket information\n",
        "ticket1.display_ticket_info()\n"
      ],
      "metadata": {
        "colab": {
          "base_uri": "https://localhost:8080/"
        },
        "id": "yR7Ef4FNaEBu",
        "outputId": "2e96067c-3402-4846-d93d-c860b16ba4a0"
      },
      "execution_count": 5,
      "outputs": [
        {
          "output_type": "stream",
          "name": "stdout",
          "text": [
            "Ticket reserved successfully.\n",
            "Ticket ID: 1\n",
            "Event Name: Concert\n",
            "Event Date: 2023-07-10\n",
            "Venue: Music Hall\n",
            "Seat Number: A1\n",
            "Price: 50\n",
            "Reservation Status: Reserved\n",
            "Reservation canceled successfully.\n",
            "Ticket ID: 1\n",
            "Event Name: Concert\n",
            "Event Date: 2023-07-10\n",
            "Venue: Music Hall\n",
            "Seat Number: A1\n",
            "Price: 50\n",
            "Reservation Status: Not Reserved\n"
          ]
        }
      ]
    },
    {
      "cell_type": "markdown",
      "source": [
        "9. You are creating a shopping cart for an e-commerce website. Using OOP to model the \"ShoppingCart\" functionality the class should contain following attributes and methods:\n",
        "\n",
        "a. items: Represents the list of items in the shopping cart.\n",
        "\n",
        "The class also includes the following methods:\n",
        "\n",
        "a. add_item(self, item): Adds an item to the shopping cart by appending it to the list of items.\n",
        "\n",
        "b. remove_item(self, item): Removes an item from the shopping cart if it exists in the list.\n",
        "\n",
        "c. view_cart(self): Displays the items currently present in the shopping cart.\n",
        "\n",
        "d. clear_cart(self): Clears all items from the shopping cart by reassigning an\n",
        "empty list to the items attribute.\n",
        "\n",
        "**Answer:**"
      ],
      "metadata": {
        "id": "BO2vICjYadaF"
      }
    },
    {
      "cell_type": "code",
      "source": [
        "\n",
        "class ShoppingCart:\n",
        "    def __init__(self):\n",
        "        self.items = []\n",
        "\n",
        "    def add_item(self, item):\n",
        "        self.items.append(item)\n",
        "        print(f\"Item '{item}' added to the shopping cart.\")\n",
        "\n",
        "    def remove_item(self, item):\n",
        "        if item in self.items:\n",
        "            self.items.remove(item)\n",
        "            print(f\"Item '{item}' removed from the shopping cart.\")\n",
        "        else:\n",
        "            print(f\"Item '{item}' is not in the shopping cart.\")\n",
        "\n",
        "    def view_cart(self):\n",
        "        if self.items:\n",
        "            print(\"Items in the shopping cart:\")\n",
        "            for item in self.items:\n",
        "                print(item)\n",
        "        else:\n",
        "            print(\"The shopping cart is empty.\")\n",
        "\n",
        "    def clear_cart(self):\n",
        "        self.items = []\n",
        "        print(\"Shopping cart cleared.\")\n"
      ],
      "metadata": {
        "id": "H0unXJFab7l1"
      },
      "execution_count": 7,
      "outputs": []
    },
    {
      "cell_type": "code",
      "source": [
        "# Creating a ShoppingCart object\n",
        "cart = ShoppingCart()\n",
        "\n",
        "# Adding items to the cart\n",
        "cart.add_item(\"Milk\")\n",
        "cart.add_item(\"Toast\")\n",
        "cart.add_item(\"Bread\")\n",
        "cart.add_item(\"BournVita\")\n",
        "cart.add_item(\"Sugar\")\n",
        "\n",
        "\n",
        "# Viewing the cart\n",
        "cart.view_cart()\n",
        "\n",
        "# Removing an item from the cart\n",
        "cart.remove_item(\"Bread\")\n",
        "\n",
        "# Viewing the updated cart\n",
        "cart.view_cart()\n",
        "\n",
        "# Clearing the cart\n",
        "cart.clear_cart()\n",
        "\n",
        "# Viewing the empty cart\n",
        "cart.view_cart()\n"
      ],
      "metadata": {
        "colab": {
          "base_uri": "https://localhost:8080/"
        },
        "id": "PUYH55wKc_J_",
        "outputId": "751d6cee-4c76-45c9-9a5e-32005a9e369d"
      },
      "execution_count": 8,
      "outputs": [
        {
          "output_type": "stream",
          "name": "stdout",
          "text": [
            "Item 'Milk' added to the shopping cart.\n",
            "Item 'Toast' added to the shopping cart.\n",
            "Item 'Bread' added to the shopping cart.\n",
            "Item 'BournVita' added to the shopping cart.\n",
            "Item 'Sugar' added to the shopping cart.\n",
            "Items in the shopping cart:\n",
            "Milk\n",
            "Toast\n",
            "Bread\n",
            "BournVita\n",
            "Sugar\n",
            "Item 'Bread' removed from the shopping cart.\n",
            "Items in the shopping cart:\n",
            "Milk\n",
            "Toast\n",
            "BournVita\n",
            "Sugar\n",
            "Shopping cart cleared.\n",
            "The shopping cart is empty.\n"
          ]
        }
      ]
    },
    {
      "cell_type": "markdown",
      "source": [
        "10. Imagine a school management system. You have to design the \"Student\" class using OOP concepts.The “Student” class has the following attributes:\n",
        "\n",
        "a. name: Represents the name of the student.\n",
        "\n",
        "b. age: Represents the age of the student.\n",
        "\n",
        "c. grade: Represents the grade or class of the student.\n",
        "\n",
        "d. student_id: Represents the unique identifier for the student.\n",
        "\n",
        "e. attendance: Represents the attendance record of the student.\n",
        "\n",
        "The class should also include the following methods:\n",
        "\n",
        "a. update_attendance(self, date, status): Updates the attendance record of the\n",
        "student for a given date with the provided status (e.g., present or absent).\n",
        "\n",
        "b. get_attendance(self): Returns the attendance record of the student.\n",
        "\n",
        "c. get_average_attendance(self): Calculates and returns the average\n",
        "attendance percentage of the student based on their attendance record.\n",
        "\n",
        "**Answer:**"
      ],
      "metadata": {
        "id": "CXRLEw8NdixO"
      }
    },
    {
      "cell_type": "code",
      "source": [
        "\n",
        "class Student:\n",
        "    def __init__(self, name, age, grade, student_id):\n",
        "        self.name = name\n",
        "        self.age = age\n",
        "        self.grade = grade\n",
        "        self.student_id = student_id\n",
        "        self.attendance = {}\n",
        "\n",
        "    def update_attendance(self, date, status):\n",
        "        self.attendance[date] = status\n",
        "\n",
        "    def get_attendance(self):\n",
        "        return self.attendance\n",
        "\n",
        "    def get_average_attendance(self):\n",
        "        total_days = len(self.attendance)\n",
        "        if total_days == 0:\n",
        "            return 0.0\n",
        "\n",
        "        present_days = sum(1 for status in self.attendance.values() if status == \"present\")\n",
        "        attendance_percentage = (present_days / total_days) * 100\n",
        "        return attendance_percentage\n"
      ],
      "metadata": {
        "id": "mIMMWMEBd6-N"
      },
      "execution_count": 15,
      "outputs": []
    },
    {
      "cell_type": "code",
      "source": [
        "# Creating a Student object\n",
        "student1 = Student(\"Yatharth\", 15, 9, \"A001\")\n",
        "\n",
        "# Updating attendance\n",
        "student1.update_attendance(\"2023-07-01\", \"present\")\n",
        "student1.update_attendance(\"2023-07-02\", \"absent\")\n",
        "student1.update_attendance(\"2023-07-03\", \"present\")\n",
        "\n",
        "# Retrieving attendance\n",
        "attendance_record = student1.get_attendance()\n",
        "print(\"Attendance Record:\", attendance_record)\n",
        "\n",
        "# Calculating average attendance percentage\n",
        "average_attendance = student1.get_average_attendance()\n",
        "print(\"Average Attendance:\", average_attendance)\n"
      ],
      "metadata": {
        "colab": {
          "base_uri": "https://localhost:8080/"
        },
        "id": "xg6pkmEgeakv",
        "outputId": "2104608c-dc03-473c-cd3a-d74b0b7adae1"
      },
      "execution_count": 16,
      "outputs": [
        {
          "output_type": "stream",
          "name": "stdout",
          "text": [
            "Attendance Record: {'2023-07-01': 'present', '2023-07-02': 'absent', '2023-07-03': 'present'}\n",
            "Average Attendance: 66.66666666666666\n"
          ]
        }
      ]
    }
  ]
}