{
  "nbformat": 4,
  "nbformat_minor": 0,
  "metadata": {
    "colab": {
      "provenance": []
    },
    "kernelspec": {
      "name": "python3",
      "display_name": "Python 3"
    },
    "language_info": {
      "name": "python"
    }
  },
  "cells": [
    {
      "cell_type": "markdown",
      "source": [
        "1. Explain what inheritance is in object-oriented programming and why it is used.\n",
        "\n",
        "**Answer:**\n",
        "\n",
        "Inheritance is a fundamental concept in object-oriented programming (OOP) that allows one class to inherit the properties and methods of another class. The class that inherits is called the \"subclass\" or \"derived class,\" while the class being inherited from is called the \"superclass\" or \"base class.\"\n",
        "\n",
        "Inheritance is used to establish an \"is-a\" relationship between classes, where the subclass is a specialized version of the superclass. The subclass inherits all the attributes and behaviors (methods) defined in the superclass and can also add its own unique attributes or methods or override existing ones.\n",
        "\n",
        "The key benefits and purposes of inheritance are:\n",
        "\n",
        "Code Reusability: Inheritance promotes code reuse by allowing subclasses to inherit and reuse the code from the superclass. The superclass encapsulates common attributes and behaviors that can be shared among multiple subclasses, reducing redundant code and making the codebase more maintainable.\n",
        "\n",
        "Modularity and Extensibility: Inheritance supports modular design and extensibility by allowing new classes to be derived from existing classes. New functionality can be added to a subclass without modifying the superclass, promoting the open/closed principle of OOP.\n",
        "\n",
        "Polymorphism: Inheritance facilitates polymorphism, which allows objects of different classes to be treated as objects of a common superclass. This enables flexibility and the ability to write code that can work with different objects interchangeably, enhancing code flexibility and modularity.\n",
        "\n",
        "Conceptual Organization: Inheritance helps in structuring and organizing classes in a logical hierarchy, reflecting real-world relationships or abstract concepts. It provides a way to model and represent complex systems in a more understandable and manageable manner"
      ],
      "metadata": {
        "id": "l9azmRwAh6bF"
      }
    },
    {
      "cell_type": "markdown",
      "source": [
        "2. Discuss the concept of single inheritance and multiple inheritance, highlighting their differences and advantages.\n",
        "\n",
        "**Answer:**\n",
        "\n",
        "Single Inheritance:\n",
        "Single inheritance is a concept in object-oriented programming (OOP) where a class inherits properties and methods from a single superclass or base class. In single inheritance, a subclass can have only one direct superclass.\n",
        "\n",
        "Advantages of Single Inheritance:\n",
        "\n",
        "Simplicity: Single inheritance provides a simple and straightforward hierarchical structure, as each subclass has a clear single superclass from which it inherits.\n",
        "\n",
        "Code Reusability: Single inheritance allows code reuse by inheriting and utilizing the attributes and behaviors defined in the superclass. This promotes modular and efficient development.\n",
        "\n",
        "Easy to Understand: Single inheritance offers clarity and ease of understanding, as there is a direct and unambiguous relationship between a subclass and its superclass.\n",
        "\n",
        "Multiple Inheritance:\n",
        "Multiple inheritance is a concept in OOP where a class can inherit properties and methods from more than one superclass or base class. In multiple inheritance, a subclass can have multiple direct superclasses.\n",
        "\n",
        "Advantages of Multiple Inheritance:\n",
        "\n",
        "Code Reusability and Modularity: Multiple inheritance allows a subclass to inherit and combine the attributes and behaviors from multiple superclasses. This promotes code reuse and modularity, as different aspects of functionality can be inherited from different classes.\n",
        "\n",
        "Expressiveness: Multiple inheritance offers a high level of expressiveness, as it allows a subclass to inherit and integrate features from multiple sources. This can be particularly useful when modeling complex relationships or combining multiple traits or characteristics.\n",
        "\n",
        "Flexibility: Multiple inheritance provides flexibility by allowing a class to inherit and use features from multiple superclasses, enabling developers to create more versatile and adaptable class hierarchies.\n",
        "\n",
        "Differences between Single and Multiple Inheritance:\n",
        "\n",
        "Number of Superclasses: In single inheritance, a subclass has only one direct superclass, while in multiple inheritance, a subclass can have multiple direct superclasses.\n",
        "\n",
        "Simplicity vs. Expressiveness: Single inheritance provides simplicity and a clear hierarchy, while multiple inheritance offers expressiveness and the ability to combine features from different sources.\n",
        "\n",
        "Ambiguity and Name Clashes: Multiple inheritance introduces the possibility of ambiguity and name clashes when two or more superclasses define methods or attributes with the same name. Careful design and resolution strategies are needed to handle these situations.\n",
        "\n",
        "Complexity: Multiple inheritance can lead to increased complexity in class hierarchies and may require additional attention to ensure proper design and maintenance\n"
      ],
      "metadata": {
        "id": "guWYjVCejZIh"
      }
    },
    {
      "cell_type": "markdown",
      "source": [
        "3. Explain the terms \"base class\" and \"derived class\" in the context of inheritance.\n",
        "\n",
        "**Answer:**\n",
        "\n",
        "In the context of inheritance, \"base class\" and \"derived class\" are terminologies used to describe the relationship between classes when implementing inheritance in object-oriented programming.\n",
        "\n",
        "Base Class:\n",
        "A base class, also known as a superclass or parent class, is the class from which another class inherits properties and methods. It serves as a template or blueprint for creating more specialized classes. The base class encapsulates common attributes and behaviors that are shared among multiple derived classes.\n",
        "\n",
        "Derived Class:\n",
        "A derived class, also known as a subclass or child class, is a class that inherits properties and methods from a base class. It is created by extending or inheriting the attributes and behaviors defined in the base class. The derived class can add its own unique attributes and behaviors, and it can also override or modify the inherited attributes and methods to suit its specific needs.\n",
        "\n"
      ],
      "metadata": {
        "id": "D7pjkIHkklwP"
      }
    },
    {
      "cell_type": "markdown",
      "source": [
        "4. What is the significance of the \"protected\" access modifier in inheritance? How does it differ from \"private\" and \"public\" modifiers?\n",
        "\n",
        "**Answer:**\n",
        "\n",
        "In object-oriented programming, the \"protected\" access modifier plays a significant role in inheritance by providing a level of accessibility between \"private\" and \"public\" modifiers. Here's how it differs from the other two modifiers:\n",
        "\n",
        "Private Access Modifier:\n",
        "When a member (attribute or method) is declared as private in a class, it can only be accessed within that class itself. It is not accessible to any derived classes or other classes in general. Private members are encapsulated within the class, allowing for data hiding and ensuring that they can only be manipulated by the class itself.\n",
        "\n",
        "Protected Access Modifier:\n",
        "When a member is declared as protected in a class, it is accessible within that class, as well as any derived classes (subclasses) that inherit from it. Protected members are not accessible outside the class hierarchy. They are useful for providing limited access to derived classes, allowing them to access and manipulate the inherited members.\n",
        "\n",
        "Key Points about Protected Access Modifier:\n",
        "\n",
        "Protected members are visible to the class that defines them and any derived classes, but not to other unrelated classes.\n",
        "\n",
        "Derived classes can directly access and use protected members inherited from the base class.\n",
        "\n",
        "Protected members are often used to provide a level of encapsulation and controlled access within a class hierarchy.\n",
        "\n",
        "Instances of classes (objects) cannot access protected members of other instances, even if they are of the same class.\n",
        "\n",
        "Public Access Modifier:\n",
        "\n",
        "Public members have the highest level of accessibility. They can be accessed from anywhere, including other classes, derived classes, and even instances (objects) of those classes. Public members are openly accessible and can be used by any part of the program\n",
        "\n"
      ],
      "metadata": {
        "id": "6zxtzQDgpTMU"
      }
    },
    {
      "cell_type": "markdown",
      "source": [
        "5. What is the purpose of the \"super\" keyword in inheritance? Provide an example\n",
        "\n",
        "**Answer:**\n",
        "\n",
        "In inheritance, the super keyword in programming languages like Python and Java is used to refer to the superclass or base class. It allows the derived class to access and invoke the methods and constructors of the superclass.\n",
        "\n",
        "The primary purposes of the super keyword are:\n",
        "\n",
        "Accessing Superclass Members: By using super, you can call methods or access attributes defined in the superclass. This is particularly useful when the derived class overrides a method from the superclass but still wants to invoke the superclass's implementation.\n",
        "\n",
        "Invoking Superclass Constructors: The super keyword can be used to call the constructor of the superclass from the derived class. This is beneficial when the derived class needs to perform additional initialization or when the superclass constructor sets up essential attributes.\n",
        "\n",
        "Here's an example to illustrate the usage of the super keyword."
      ],
      "metadata": {
        "id": "-9iP8_iNrBeU"
      }
    },
    {
      "cell_type": "code",
      "source": [
        "class Vehicle:  #Base class\n",
        "    def __init__(self, brand):\n",
        "        self.brand = brand\n",
        "\n",
        "    def start(self):\n",
        "        print(\"Engine started.\")\n",
        "\n",
        "\n",
        "class Car(Vehicle):  # derived  - child class\n",
        "    def __init__(self, brand, model):\n",
        "        super().__init__(brand)  # Calling the superclass constructor\n",
        "        self.model = model\n",
        "\n",
        "    def start(self):\n",
        "        super().start()  # Calling the superclass method\n",
        "        print(f\"{self.brand} {self.model} started.\")\n",
        "\n",
        "\n",
        "# Creating a Car object\n",
        "car = Car(\"Skoda\", \"Rapid\")\n",
        "car.start()\n"
      ],
      "metadata": {
        "colab": {
          "base_uri": "https://localhost:8080/"
        },
        "id": "i2bPK9_75irA",
        "outputId": "37209530-ee76-4e3a-cc0e-0759c35e589b"
      },
      "execution_count": 2,
      "outputs": [
        {
          "output_type": "stream",
          "name": "stdout",
          "text": [
            "Engine started.\n",
            "Skoda Rapid started.\n"
          ]
        }
      ]
    },
    {
      "cell_type": "markdown",
      "source": [
        "In this example, the Vehicle class is the superclass, and the Car class is the derived class. The Car class extends the Vehicle class and adds its own attributes and methods.\n",
        "\n",
        "Within the Car class constructor, super().__init__(brand) is used to call the __init__ constructor of the Vehicle superclass, passing the brand parameter. This ensures that the brand attribute of the Vehicle class is properly initialized.\n",
        "\n",
        "In the start method of the Car class, super().start() is used to invoke the start method of the Vehicle superclass before printing the additional message specific to the Car class."
      ],
      "metadata": {
        "id": "xQOcG-3e9SSo"
      }
    },
    {
      "cell_type": "markdown",
      "source": [
        "6. Create a base class called \"Vehicle\" with attributes like \"make\", \"model\", and \"year\". Then, create a derived class called \"Car\" that inherits from \"Vehicle\" and adds an attribute called \"fuel_type\". Implement appropriate methods in both classes.\n",
        "\n",
        "**Answer:**"
      ],
      "metadata": {
        "id": "pNQQrjJl9kZ_"
      }
    },
    {
      "cell_type": "code",
      "source": [
        "class Vehicle:\n",
        "    def __init__(self, make, model, year):\n",
        "        self.make = make\n",
        "        self.model = model\n",
        "        self.year = year\n",
        "\n",
        "    def display_info(self):\n",
        "        print(f\"Make: {self.make}\")\n",
        "        print(f\"Model: {self.model}\")\n",
        "        print(f\"Year: {self.year}\")\n",
        "\n",
        "\n",
        "class Car(Vehicle):\n",
        "    def __init__(self, make, model, year, fuel_type):\n",
        "        super().__init__(make, model, year)\n",
        "        self.fuel_type = fuel_type\n",
        "\n",
        "    def display_info(self):\n",
        "        super().display_info()\n",
        "        print(f\"Fuel Type: {self.fuel_type}\")\n",
        "\n",
        "\n",
        "# Creating a Vehicle object\n",
        "vehicle = Vehicle(\"Skoda\", \"Rapid\", 2016)\n",
        "vehicle.display_info()\n",
        "\n",
        "# Creating a Car object\n",
        "car = Car(\"Maruti\", \"Celerio\", 2018, \"Electric\")\n",
        "car.display_info()\n"
      ],
      "metadata": {
        "colab": {
          "base_uri": "https://localhost:8080/"
        },
        "id": "NoN_ZaGB_6xs",
        "outputId": "c05350ee-fcaa-4bac-f4d6-42661ccb2621"
      },
      "execution_count": 3,
      "outputs": [
        {
          "output_type": "stream",
          "name": "stdout",
          "text": [
            "Make: Skoda\n",
            "Model: Rapid\n",
            "Year: 2016\n",
            "Make: Maruti\n",
            "Model: Celerio\n",
            "Year: 2018\n",
            "Fuel Type: Electric\n"
          ]
        }
      ]
    },
    {
      "cell_type": "markdown",
      "source": [
        "7. Create a base class called \"Employee\" with attributes like \"name\" and \"salary.\" Derive two classes, \"Manager\" and \"Developer,\" from \"Employee.\" Add an additional attribute called \"department\" for the \"Manager\" class and \"programming_language\" for the \"Developer\" class.\n",
        "\n",
        "**Answer:**\n"
      ],
      "metadata": {
        "id": "qilfAjJ3AN_X"
      }
    },
    {
      "cell_type": "code",
      "source": [
        "class Employee:\n",
        "    def __init__(self, name, salary):\n",
        "        self.name = name\n",
        "        self.salary = salary\n",
        "\n",
        "    def display_info(self):\n",
        "        print(f\"Name: {self.name}\")\n",
        "        print(f\"Salary: INR {self.salary}\")\n",
        "\n",
        "\n",
        "class Manager(Employee):\n",
        "    def __init__(self, name, salary, department):\n",
        "        super().__init__(name, salary)\n",
        "        self.department = department\n",
        "\n",
        "    def display_info(self):\n",
        "        super().display_info()\n",
        "        print(f\"Department: {self.department}\")\n",
        "\n",
        "\n",
        "class Developer(Employee):\n",
        "    def __init__(self, name, salary, programming_language):\n",
        "        super().__init__(name, salary)\n",
        "        self.programming_language = programming_language\n",
        "\n",
        "    def display_info(self):\n",
        "        super().display_info()\n",
        "        print(f\"Programming Language: {self.programming_language}\")\n",
        "\n",
        "\n",
        "# Creating an Employee object\n",
        "employee = Employee(\"Abhay Kolhe\", 5000000)\n",
        "employee.display_info()\n",
        "\n",
        "# Creating a Manager object\n",
        "manager = Manager(\"Dewang Patil\", 8000000, \"IT\")\n",
        "manager.display_info()\n",
        "\n",
        "# Creating a Developer object\n",
        "developer = Developer(\"Yatharth Chaudhari\", 6000000, \"Python\")\n",
        "developer.display_info()\n"
      ],
      "metadata": {
        "colab": {
          "base_uri": "https://localhost:8080/"
        },
        "id": "nZnugZ_wAcXW",
        "outputId": "f10c2f3d-a738-4c52-fefb-697dc982c549"
      },
      "execution_count": 6,
      "outputs": [
        {
          "output_type": "stream",
          "name": "stdout",
          "text": [
            "Name: Abhay Kolhe\n",
            "Salary: INR 5000000\n",
            "Name: Dewang Patil\n",
            "Salary: INR 8000000\n",
            "Department: IT\n",
            "Name: Yatharth Chaudhari\n",
            "Salary: INR 6000000\n",
            "Programming Language: Python\n"
          ]
        }
      ]
    },
    {
      "cell_type": "markdown",
      "source": [
        "8. Design a base class called \"Shape\" with attributes like \"colour\" and \"border_width.\" Create derived classes, \"Rectangle\" and \"Circle,\" that inherit from \"Shape\" and add specific attributes like \"length\" and \"width\" for the \"Rectangle\" class and \"radius\" for the \"Circle\" class.\n",
        "\n",
        "\n",
        "**Answer:**"
      ],
      "metadata": {
        "id": "U_8g13zBBZAO"
      }
    },
    {
      "cell_type": "code",
      "source": [
        "class Shape:\n",
        "    def __init__(self, colour, border_width):\n",
        "        self.colour = colour\n",
        "        self.border_width = border_width\n",
        "\n",
        "    def display_info(self):\n",
        "        print(f\"Colour: {self.colour}\")\n",
        "        print(f\"Border Width: {self.border_width}\")\n",
        "\n",
        "\n",
        "class Rectangle(Shape):\n",
        "    def __init__(self, colour, border_width, length, width):\n",
        "        super().__init__(colour, border_width)\n",
        "        self.length = length\n",
        "        self.width = width\n",
        "\n",
        "    def display_info(self):\n",
        "        super().display_info()\n",
        "        print(f\"Length: {self.length}\")\n",
        "        print(f\"Width: {self.width}\")\n",
        "\n",
        "\n",
        "class Circle(Shape):\n",
        "    def __init__(self, colour, border_width, radius):\n",
        "        super().__init__(colour, border_width)\n",
        "        self.radius = radius\n",
        "\n",
        "    def display_info(self):\n",
        "        super().display_info()\n",
        "        print(f\"Radius: {self.radius}\")\n",
        "\n",
        "\n",
        "# Creating a Shape object\n",
        "shape = Shape(\"Red\", 2)\n",
        "shape.display_info()\n",
        "\n",
        "# Creating a Rectangle object\n",
        "rectangle = Rectangle(\"Blue\", 1, 5, 3)\n",
        "rectangle.display_info()\n",
        "\n",
        "# Creating a Circle object\n",
        "circle = Circle(\"Green\", 3, 4)\n",
        "circle.display_info()\n"
      ],
      "metadata": {
        "colab": {
          "base_uri": "https://localhost:8080/"
        },
        "id": "HT2RoG8lCGXw",
        "outputId": "58bd4655-9594-48a4-a216-411ae43c44a8"
      },
      "execution_count": 7,
      "outputs": [
        {
          "output_type": "stream",
          "name": "stdout",
          "text": [
            "Colour: Red\n",
            "Border Width: 2\n",
            "Colour: Blue\n",
            "Border Width: 1\n",
            "Length: 5\n",
            "Width: 3\n",
            "Colour: Green\n",
            "Border Width: 3\n",
            "Radius: 4\n"
          ]
        }
      ]
    },
    {
      "cell_type": "markdown",
      "source": [
        "9. Create a base class called \"Device\" with attributes like \"brand\" and \"model.\" Derive two classes, \"Phone\" and \"Tablet,\" from \"Device.\" Add specific attributes like \"screen_size\" for the \"Phone\" class and \"battery_capacity\" for the \"Tablet\" class.\n",
        "\n",
        "**Answer:**\n",
        "\n"
      ],
      "metadata": {
        "id": "-vLzcx6dCPNg"
      }
    },
    {
      "cell_type": "code",
      "source": [
        "class Device:\n",
        "    def __init__(self, brand, model):\n",
        "        self.brand = brand\n",
        "        self.model = model\n",
        "\n",
        "    def display_info(self):\n",
        "        print(f\"Brand: {self.brand}\")\n",
        "        print(f\"Model: {self.model}\")\n",
        "\n",
        "\n",
        "class Phone(Device):\n",
        "    def __init__(self, brand, model, screen_size):\n",
        "        super().__init__(brand, model)\n",
        "        self.screen_size = screen_size\n",
        "\n",
        "    def display_info(self):\n",
        "        super().display_info()\n",
        "        print(f\"Screen Size: {self.screen_size}\")\n",
        "\n",
        "\n",
        "class Tablet(Device):\n",
        "    def __init__(self, brand, model, battery_capacity):\n",
        "        super().__init__(brand, model)\n",
        "        self.battery_capacity = battery_capacity\n",
        "\n",
        "    def display_info(self):\n",
        "        super().display_info()\n",
        "        print(f\"Battery Capacity: {self.battery_capacity} mAh\")\n",
        "\n",
        "\n",
        "# Creating a Device object\n",
        "device = Device(\"Bike\", \"Pleasure\")\n",
        "device.display_info()\n",
        "\n",
        "# Creating a Phone object\n",
        "phone = Phone(\"Motorola\", \"Moto 25\", 6.67)\n",
        "phone.display_info()\n",
        "\n",
        "# Creating a Tablet object\n",
        "tablet = Tablet(\"Samsung\", \"Galaxy Tab S7\", 8000)\n",
        "tablet.display_info()\n"
      ],
      "metadata": {
        "colab": {
          "base_uri": "https://localhost:8080/"
        },
        "id": "uC4RfEeuDBth",
        "outputId": "27af4f33-bd4e-4131-dba1-da15ba861a8c"
      },
      "execution_count": 8,
      "outputs": [
        {
          "output_type": "stream",
          "name": "stdout",
          "text": [
            "Brand: Bike\n",
            "Model: Pleasure\n",
            "Brand: Motorola\n",
            "Model: Moto 25\n",
            "Screen Size: 6.67\n",
            "Brand: Samsung\n",
            "Model: Galaxy Tab S7\n",
            "Battery Capacity: 8000 mAh\n"
          ]
        }
      ]
    },
    {
      "cell_type": "markdown",
      "source": [
        "10. Create a base class called \"BankAccount\" with attributes like \"account_number\" and \"balance.\" Derive two classes, \"SavingsAccount\" and \"CheckingAccount,\" from \"BankAccount.\" Add specific methods like \"calculate_interest\" for the \"SavingsAccount\" class and \"deduct_fees\" for the \"CheckingAccount\" class.\n",
        "\n",
        "**Answer:**"
      ],
      "metadata": {
        "id": "2c6y9rhMDeqK"
      }
    },
    {
      "cell_type": "code",
      "source": [
        "class BankAccount:\n",
        "    def __init__(self, account_number, balance):\n",
        "        self.account_number = account_number\n",
        "        self.balance = balance\n",
        "\n",
        "    def display_info(self):\n",
        "        print(f\"Account Number: {self.account_number}\")\n",
        "        print(f\"Balance: INR {self.balance:.2f}\")\n",
        "\n",
        "\n",
        "class SavingsAccount(BankAccount):\n",
        "    def __init__(self, account_number, balance):\n",
        "        super().__init__(account_number, balance)\n",
        "\n",
        "    def calculate_interest(self, interest_rate):\n",
        "        interest = self.balance * interest_rate\n",
        "        self.balance += interest\n",
        "        print(f\"Interest calculated: INR {interest:.2f}\")\n",
        "\n",
        "    def display_info(self):\n",
        "        super().display_info()\n",
        "        print(\"Account Type: Savings Account\")\n",
        "\n",
        "\n",
        "class CheckingAccount(BankAccount):\n",
        "    def __init__(self, account_number, balance):\n",
        "        super().__init__(account_number, balance)\n",
        "\n",
        "    def deduct_fees(self, fee):\n",
        "        if self.balance >= fee:\n",
        "            self.balance -= fee\n",
        "            print(f\"Fees deducted: INR {fee:.2f}\")\n",
        "        else:\n",
        "            print(\"Insufficient balance to deduct fees.\")\n",
        "\n",
        "    def display_info(self):\n",
        "        super().display_info()\n",
        "        print(\"Account Type: Checking Account\")\n",
        "\n",
        "\n",
        "# Creating a BankAccount object\n",
        "bank_account = BankAccount(\"1234567890\", 1000.0)\n",
        "bank_account.display_info()\n",
        "\n",
        "# Creating a SavingsAccount object\n",
        "savings_account = SavingsAccount(\"9876543210\", 20000.0)\n",
        "savings_account.display_info()\n",
        "savings_account.calculate_interest(0.035)\n",
        "savings_account.display_info()\n",
        "\n",
        "# Creating a CheckingAccount object\n",
        "checking_account = CheckingAccount(\"4567890123\", 1500.0)\n",
        "checking_account.display_info()\n",
        "checking_account.deduct_fees(20.0)\n",
        "checking_account.display_info()\n"
      ],
      "metadata": {
        "colab": {
          "base_uri": "https://localhost:8080/"
        },
        "id": "3oDRBNpbD-Zz",
        "outputId": "f44fb1dc-4bb2-41a2-f2e1-763c4fff0446"
      },
      "execution_count": 11,
      "outputs": [
        {
          "output_type": "stream",
          "name": "stdout",
          "text": [
            "Account Number: 1234567890\n",
            "Balance: INR 1000.00\n",
            "Account Number: 9876543210\n",
            "Balance: INR 20000.00\n",
            "Account Type: Savings Account\n",
            "Interest calculated: INR 700.00\n",
            "Account Number: 9876543210\n",
            "Balance: INR 20700.00\n",
            "Account Type: Savings Account\n",
            "Account Number: 4567890123\n",
            "Balance: INR 1500.00\n",
            "Account Type: Checking Account\n",
            "Fees deducted: INR 20.00\n",
            "Account Number: 4567890123\n",
            "Balance: INR 1480.00\n",
            "Account Type: Checking Account\n"
          ]
        }
      ]
    }
  ]
}