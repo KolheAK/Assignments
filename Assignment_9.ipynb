{
  "nbformat": 4,
  "nbformat_minor": 0,
  "metadata": {
    "colab": {
      "provenance": []
    },
    "kernelspec": {
      "name": "python3",
      "display_name": "Python 3"
    },
    "language_info": {
      "name": "python"
    }
  },
  "cells": [
    {
      "cell_type": "markdown",
      "source": [
        "1.\tWhat is a lambda function in Python, and how does it differ from a regular function?\n",
        "\n",
        "**Answer:**\n",
        "\n",
        "Lambda functions in Python are anonymous functions that can be defined without a name. They are typically used for short, simple operations that do not require a full function definition.\n",
        "\n",
        "Lambda functions are different from regular functions in that they do not require a return statement, and they can only contain a single expression.\n",
        "For lambda function, there is neither a document string nor a name.\n"
      ],
      "metadata": {
        "id": "9qAvMKdVcDHE"
      }
    },
    {
      "cell_type": "markdown",
      "source": [
        "2.\tCan a lambda function in Python have multiple arguments? If yes, how can you define and use them?\n",
        "\n",
        "**Answer:**\n",
        "\n",
        "Yes, a lambda function in Python can have multiple arguments.\n",
        "\n",
        "We can define them by separating them with commas in the lambda function's parameter list.\n",
        "e.g. - a lambda function with two arguments could be defined as lambda x, y: x + y.\n",
        "To use the lambda function, we can call it with the appropriate number of arguments, like this: (lambda x, y: x + y)(2, 3) would return 5."
      ],
      "metadata": {
        "id": "xsMOnyO7j1Nm"
      }
    },
    {
      "cell_type": "code",
      "source": [
        "(lambda x, y: x + y)(2, 3)"
      ],
      "metadata": {
        "colab": {
          "base_uri": "https://localhost:8080/"
        },
        "id": "NcmLOZstkL3S",
        "outputId": "45e744f3-6d59-48b5-f982-53eda6099938"
      },
      "execution_count": 1,
      "outputs": [
        {
          "output_type": "execute_result",
          "data": {
            "text/plain": [
              "5"
            ]
          },
          "metadata": {},
          "execution_count": 1
        }
      ]
    },
    {
      "cell_type": "markdown",
      "source": [
        "3.\tHow are lambda functions typically used in Python? Provide an example use case.\n",
        "\n",
        "**Answer:**\n",
        "\n",
        "Lambda functions are often used for short, one-time use functions that don't require a full function definition. They are commonly used in functional programming and for tasks such as filtering, mapping, and sorting data.\n",
        "\n",
        " For example, we can use a lambda function to sort a list of numbers in ascending order:\n",
        "\n",
        "\n",
        "numbers = [5, 2, 8, 1, 9]\n",
        "\n",
        "\n",
        "sorted_numbers = sorted(numbers, key=lambda x: x)\n",
        "\n",
        "\n",
        "In this example, the lambda function is used as the key argument for the sorted() function to specify that the list should be sorted based on the values of the numbers.\n"
      ],
      "metadata": {
        "id": "MkJZ9Mqfl5Ua"
      }
    },
    {
      "cell_type": "code",
      "source": [
        "numbers = [5, 2, 8, 1, 9]\n",
        "\n",
        "sorted_numbers = sorted(numbers, key=lambda x: x)\n",
        "print(sorted_numbers)"
      ],
      "metadata": {
        "colab": {
          "base_uri": "https://localhost:8080/"
        },
        "id": "tRk_6bt7nNOp",
        "outputId": "1038d23a-a6a4-43c1-c2a5-3d4478f1659a"
      },
      "execution_count": 3,
      "outputs": [
        {
          "output_type": "stream",
          "name": "stdout",
          "text": [
            "[1, 2, 5, 8, 9]\n"
          ]
        }
      ]
    },
    {
      "cell_type": "markdown",
      "source": [
        "4.\tWhat are the advantages and limitations of lambda functions compared to regular functions in Python?\n",
        "\n",
        "**Answer:**\n",
        "\n",
        "**Advantages:**\n",
        "1. The code is simple and clear.\n",
        "2. No additional variables are added.\n",
        "3. Ease of use.\n",
        "4. More concise code.\n",
        "\n",
        "**Disadvantages:**\n",
        "1. Lambda expressions are a strange and unfamiliar syntax to many Python programmers.\n",
        "2. Lambda functions themselves lack names and documentation, meaning that the only way to know what they do is to read the code.\n",
        "3. Lambda expressions can only contain one statement, so some readable language features, such as tuple unpacking, cannot be used with them.\n",
        "4. Lambda functions can often be replaced with existing functions in the standard library or Python built-in functions.\n"
      ],
      "metadata": {
        "id": "VkKjv47KnY20"
      }
    },
    {
      "cell_type": "markdown",
      "source": [
        "5.\tAre lambda functions in Python able to access variables defined outside of their own scope? Explain with an example\n",
        "\n",
        "**Answer:**\n",
        "\n",
        "Yes, lambda functions in Python can access variables defined outside of their own scope. For example, consider the following code:\n",
        "\n",
        "\n",
        "x = 5\n",
        "\n",
        "\n",
        "y = lambda a: a + x\n",
        "\n",
        "\n",
        "print(y(3))\n",
        "\n",
        "\n",
        "In this code, the lambda function accesses the variable x, which is defined outside of its own scope. The output of this code would be 8, since the lambda function adds 3 (the argument passed to it) to x (which has a value of 5)."
      ],
      "metadata": {
        "id": "7q40CKGTpwpN"
      }
    },
    {
      "cell_type": "code",
      "source": [
        "x = 5\n",
        "\n",
        "y = lambda a: a + x\n",
        "\n",
        "print(y(3))"
      ],
      "metadata": {
        "colab": {
          "base_uri": "https://localhost:8080/"
        },
        "id": "PHrZeCAKrA_u",
        "outputId": "8133673b-8275-467a-943c-fe1567fdbb17"
      },
      "execution_count": 4,
      "outputs": [
        {
          "output_type": "stream",
          "name": "stdout",
          "text": [
            "8\n"
          ]
        }
      ]
    },
    {
      "cell_type": "markdown",
      "source": [
        "6.\tWrite a lambda function to calculate the square of a given number.\n",
        "\n",
        "**Answer:**\n"
      ],
      "metadata": {
        "id": "VMcZH-rOyoPg"
      }
    },
    {
      "cell_type": "code",
      "source": [
        "# Lambda function to calculate the square of a given number.\n",
        "num = int(input(\"Enter a Number\"))\n",
        "result = lambda num: num*num\n",
        "\n",
        "print(result(num))"
      ],
      "metadata": {
        "colab": {
          "base_uri": "https://localhost:8080/"
        },
        "id": "Mwf6-g6oyzON",
        "outputId": "f7165b5f-ae2f-4093-f280-eec9acd4d56b"
      },
      "execution_count": 7,
      "outputs": [
        {
          "output_type": "stream",
          "name": "stdout",
          "text": [
            "Enter a Number10\n",
            "100\n"
          ]
        }
      ]
    },
    {
      "cell_type": "markdown",
      "source": [
        "7.\tCreate a lambda function to find the maximum value in a list of integers.\n",
        "\n",
        "**Answer:**"
      ],
      "metadata": {
        "id": "anib7Yy-5M_f"
      }
    },
    {
      "cell_type": "code",
      "source": [
        "# Lambda function to find the maximum value in a list of integers.\n",
        "lst1 = [111, 33, 66, 44]\n",
        "max_value = lambda x: max(x)\n",
        "\n",
        "print(\"Max Value: \", max_value(lst1))"
      ],
      "metadata": {
        "colab": {
          "base_uri": "https://localhost:8080/"
        },
        "id": "W4agdIJv5VWU",
        "outputId": "daf9d9a7-cab9-4832-e449-bbe00b9c1f43"
      },
      "execution_count": 10,
      "outputs": [
        {
          "output_type": "stream",
          "name": "stdout",
          "text": [
            "Max Value:  111\n"
          ]
        }
      ]
    },
    {
      "cell_type": "markdown",
      "source": [
        "8.\tImplement a lambda function to filter out all the even numbers from a list of integers.\n",
        "\n",
        "**Answer:**\n"
      ],
      "metadata": {
        "id": "5yoncUN46rMw"
      }
    },
    {
      "cell_type": "code",
      "source": [
        "# Lambda function to filter out all the even numbers from a list of integers.\n",
        "lst1 = [11, 12, 13, 16, 30, 6, 7]\n",
        "even_numbers = list(filter(lambda x: x % 2 == 0, lst1))\n",
        "print(\"The even numbers from a list of integers\")\n",
        "print(even_numbers)\n",
        "\n"
      ],
      "metadata": {
        "colab": {
          "base_uri": "https://localhost:8080/"
        },
        "id": "ymNnQT4V62HD",
        "outputId": "396d9615-f570-4c59-8263-06140de3b4ca"
      },
      "execution_count": 17,
      "outputs": [
        {
          "output_type": "stream",
          "name": "stdout",
          "text": [
            "The even numbers from a list of integers\n",
            "[12, 16, 30, 6]\n"
          ]
        }
      ]
    },
    {
      "cell_type": "markdown",
      "source": [
        "9.\tWrite a lambda function to sort a list of strings in ascending order based on the length of each string.\n",
        "\n",
        "**Answer:**"
      ],
      "metadata": {
        "id": "LL48mQju-GdW"
      }
    },
    {
      "cell_type": "code",
      "source": [
        "# Lambda function to sort a list of strings in ascending order based on the length of each string.\n",
        "lst1 = ['India', 'Sri Lanka', 'USA', 'GreenLand', 'Myanmar', 'Norway', 'Peru']\n",
        "sorted_lst = sorted(lst1, key = lambda x: len(x))\n",
        "\n",
        "print(sorted_lst)"
      ],
      "metadata": {
        "colab": {
          "base_uri": "https://localhost:8080/"
        },
        "id": "J5S053N4-S_l",
        "outputId": "2fc68758-7755-4d99-c697-69e9d17075e8"
      },
      "execution_count": 25,
      "outputs": [
        {
          "output_type": "stream",
          "name": "stdout",
          "text": [
            "['USA', 'Peru', 'India', 'Norway', 'Myanmar', 'Sri Lanka', 'GreenLand']\n"
          ]
        }
      ]
    },
    {
      "cell_type": "markdown",
      "source": [
        "10.\tCreate a lambda function that takes two lists as input and returns a new list containing the common elements between the two lists.\n",
        "\n",
        "**Answer:**\n",
        "\n"
      ],
      "metadata": {
        "id": "_AShGN9zEIUp"
      }
    },
    {
      "cell_type": "code",
      "source": [
        "# Lambda function that takes two lists as input and returns a new list containing the common elements between the two lists.\n",
        "lst1 = [2, 6, 12, 8, 10, 11]\n",
        "lst2 = [12, 14, 6, 8, 17, 10, 20, 11]\n",
        "\n",
        "result_lst = list(filter(lambda x: x in lst1, lst2))\n",
        "print('The Common Elements between the two lists: ')\n",
        "\n",
        "print(result_lst)\n"
      ],
      "metadata": {
        "colab": {
          "base_uri": "https://localhost:8080/"
        },
        "id": "_5Ab8aXPESet",
        "outputId": "45c6ebeb-2d6d-4fd8-d37b-986658a238f1"
      },
      "execution_count": 39,
      "outputs": [
        {
          "output_type": "stream",
          "name": "stdout",
          "text": [
            "The Common Elements between the two lists: \n",
            "[12, 6, 8, 10, 11]\n"
          ]
        }
      ]
    },
    {
      "cell_type": "markdown",
      "source": [
        "11.\tWrite a recursive function to calculate the factorial of a given positive integer.\n",
        "\n",
        "**Answer:**\n"
      ],
      "metadata": {
        "id": "KDcBd7aCNFUz"
      }
    },
    {
      "cell_type": "code",
      "source": [
        "# Rrecursive function to calculate the factorial of a given positive integer.\n",
        "def fact(n):\n",
        "  if n < 0:\n",
        "    res = -1\n",
        "  elif n == 0:\n",
        "    res = 1\n",
        "  else:\n",
        "    res = n * fact(n-1)\n",
        "  return res\n",
        "\n",
        "\n",
        "num = int(input('Enter the Number: '))\n",
        "result = fact(num)\n",
        "if result >= 0:\n",
        "  print('Factorial of ', num, ' = ', result)\n",
        "else:\n",
        "  print('Invalid input')\n"
      ],
      "metadata": {
        "colab": {
          "base_uri": "https://localhost:8080/"
        },
        "id": "nnUmfC3eNPI8",
        "outputId": "b71b7655-ac2e-466a-f879-28d3e14c29ff"
      },
      "execution_count": 47,
      "outputs": [
        {
          "output_type": "stream",
          "name": "stdout",
          "text": [
            "Enter the Number: 5\n",
            "Factorial of  5  =  120\n"
          ]
        }
      ]
    },
    {
      "cell_type": "markdown",
      "source": [
        "12.\tImplement a recursive function to compute the nth Fibonacci number.\n",
        "\n",
        "**Answer: **\n",
        "\n"
      ],
      "metadata": {
        "id": "8OlMI3kuPwj0"
      }
    },
    {
      "cell_type": "code",
      "source": [
        "# Recursive function to compute the nth Fibonacci number.\n",
        "\n",
        "def fib(num):\n",
        "  if num == 1:\n",
        "    fibo = 0\n",
        "  elif num == 2:\n",
        "    fibo = 1\n",
        "  else:\n",
        "    fibo = fib(num-1) + fib(num-2)\n",
        "\n",
        "  return fibo\n",
        "\n",
        "\n",
        "\n",
        "n = int(input('Enter the non-negative value of n :'))\n",
        "if n <= 0:\n",
        "  print('Invalid Input')\n",
        "else:\n",
        "  fibonacci = fib(n)\n",
        "  print('The', n,'th fibonacci term is :', fibonacci)\n"
      ],
      "metadata": {
        "colab": {
          "base_uri": "https://localhost:8080/"
        },
        "id": "4yES96lmP8dd",
        "outputId": "aea3cc18-9a30-4a55-d83a-86b23bf5ac75"
      },
      "execution_count": 55,
      "outputs": [
        {
          "output_type": "stream",
          "name": "stdout",
          "text": [
            "Enter the non-negative value of n :15\n",
            "The 15 th fibonacci term is : 377\n"
          ]
        }
      ]
    },
    {
      "cell_type": "markdown",
      "source": [
        "13.\tCreate a recursive function to find the sum of all the elements in a given list.\n",
        "\n",
        "**Answer: **\n",
        "\n"
      ],
      "metadata": {
        "id": "aVaun4zTVUm-"
      }
    },
    {
      "cell_type": "code",
      "source": [
        "# Recursive function to find the sum of all the elements in a given list.\n",
        "\n",
        "def sumofList(lst):\n",
        "  if len(lst) == 0:\n",
        "    return 0\n",
        "  elif len(lst) == 1:\n",
        "    return lst[0]\n",
        "  else:\n",
        "    return lst[0] + sumofList(lst[1:])\n",
        "\n",
        "\n",
        "lst1 = [1, 2, 4, 7, 9]\n",
        "result = sumofList(lst1)\n",
        "print(\"The sum of all the elements in the given list is:\", result)"
      ],
      "metadata": {
        "colab": {
          "base_uri": "https://localhost:8080/"
        },
        "id": "XmtKUAqJVeZ7",
        "outputId": "328d95be-e068-45b5-a867-97cea211c62a"
      },
      "execution_count": 57,
      "outputs": [
        {
          "output_type": "stream",
          "name": "stdout",
          "text": [
            "The sum of all the elements in the given list is: 23\n"
          ]
        }
      ]
    },
    {
      "cell_type": "markdown",
      "source": [
        "14.\tWrite a recursive function to determine whether a given string is a palindrome.\n",
        "\n",
        "**Answer:**\n",
        "\n"
      ],
      "metadata": {
        "id": "GRGehzopX3z1"
      }
    },
    {
      "cell_type": "code",
      "source": [
        "# Recursive function to determine whether a given string is a palindrome.\n",
        "\n",
        "def palindrome(str1):\n",
        "  if len(str1) == 1:\n",
        "    return True\n",
        "  else:\n",
        "    if str1[0] == str1[-1]:\n",
        "      return palindrome(str1[1:-1])\n",
        "    else:\n",
        "      return False\n",
        "\n",
        "\n",
        "string = input('Enter a String ')\n",
        "result = palindrome(string)\n",
        "if result == True:\n",
        "  print('The given string is palindrome')\n",
        "else:\n",
        "  print('The given string is not palindrome')\n",
        "\n"
      ],
      "metadata": {
        "colab": {
          "base_uri": "https://localhost:8080/"
        },
        "id": "mIhmDoxdYCDj",
        "outputId": "b477f183-87d1-4da0-bd22-574a86e9899a"
      },
      "execution_count": 7,
      "outputs": [
        {
          "output_type": "stream",
          "name": "stdout",
          "text": [
            "Enter a String 123454321\n",
            "The given string is palindrome\n"
          ]
        }
      ]
    },
    {
      "cell_type": "markdown",
      "source": [
        "15.\tImplement a recursive function to find the greatest common divisor (GCD) of two positive integers.\n",
        "\n",
        "**Answer:**\n",
        "\n"
      ],
      "metadata": {
        "id": "L8rw2lYSMXfX"
      }
    },
    {
      "cell_type": "code",
      "source": [
        "# Recursive function to find the greatest common divisor (GCD) of two positive integers.\n",
        "\n",
        "def gcd(a, b):\n",
        "   if a == b:\n",
        "      return a\n",
        "   elif a < b:\n",
        "      return gcd(b, a)\n",
        "   else:\n",
        "      return gcd(b, a - b)\n",
        "\n",
        "num1 = int(input('Enter first number:'))\n",
        "num2 = int(input('Enter second number:'))\n",
        "\n",
        "print('GCD of ', num1, '& ', num2, ' = ', gcd(num1, num2))\n",
        "\n"
      ],
      "metadata": {
        "colab": {
          "base_uri": "https://localhost:8080/"
        },
        "id": "JFgY0akyMxnG",
        "outputId": "4f3deeb6-3273-4b98-de7a-75674b0ac667"
      },
      "execution_count": 13,
      "outputs": [
        {
          "output_type": "stream",
          "name": "stdout",
          "text": [
            "Enter first number:36\n",
            "Enter second number:48\n",
            "GCD of  36 &  48  =  12\n"
          ]
        }
      ]
    }
  ]
}